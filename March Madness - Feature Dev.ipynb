{
 "cells": [
  {
   "cell_type": "code",
   "execution_count": 1,
   "id": "e50e2fba",
   "metadata": {},
   "outputs": [],
   "source": [
    "import numpy as np\n",
    "import pandas as pd\n",
    "\n",
    "import matplotlib.pyplot as plt\n",
    "\n",
    "import os\n",
    "\n",
    "import march_madness as mm\n",
    "import random"
   ]
  },
  {
   "cell_type": "code",
   "execution_count": 2,
   "id": "0abd3b54",
   "metadata": {},
   "outputs": [],
   "source": [
    "def get_win_location_weight(loc):\n",
    "    if loc == 'H':\n",
    "        return 0.6\n",
    "    elif loc == 'A':\n",
    "        return 1.4\n",
    "    else:\n",
    "        return 1\n",
    "\n",
    "def get_loss_location_weight(loc):\n",
    "    if loc == 'A':\n",
    "        return 1.4\n",
    "    elif loc == 'H':\n",
    "        return 0.6\n",
    "    else:\n",
    "        return 1"
   ]
  },
  {
   "cell_type": "code",
   "execution_count": 3,
   "id": "b617a911",
   "metadata": {},
   "outputs": [],
   "source": [
    "analysis = mm.Analysis()"
   ]
  },
  {
   "cell_type": "code",
   "execution_count": 4,
   "id": "aad68913",
   "metadata": {},
   "outputs": [],
   "source": [
    "analysis.load_season(1985)"
   ]
  },
  {
   "cell_type": "code",
   "execution_count": null,
   "id": "c14f6575",
   "metadata": {},
   "outputs": [],
   "source": [
    "analysis.calc_seasons_features()"
   ]
  },
  {
   "cell_type": "code",
   "execution_count": 5,
   "id": "9b349466",
   "metadata": {},
   "outputs": [],
   "source": [
    "season = analysis.seasons[1985]"
   ]
  },
  {
   "cell_type": "code",
   "execution_count": 6,
   "id": "3ac9e145",
   "metadata": {},
   "outputs": [
    {
     "data": {
      "text/html": [
       "<div>\n",
       "<style scoped>\n",
       "    .dataframe tbody tr th:only-of-type {\n",
       "        vertical-align: middle;\n",
       "    }\n",
       "\n",
       "    .dataframe tbody tr th {\n",
       "        vertical-align: top;\n",
       "    }\n",
       "\n",
       "    .dataframe thead th {\n",
       "        text-align: right;\n",
       "    }\n",
       "</style>\n",
       "<table border=\"1\" class=\"dataframe\">\n",
       "  <thead>\n",
       "    <tr style=\"text-align: right;\">\n",
       "      <th></th>\n",
       "      <th>Season</th>\n",
       "      <th>DayNum</th>\n",
       "      <th>WTeamID</th>\n",
       "      <th>WScore</th>\n",
       "      <th>LTeamID</th>\n",
       "      <th>LScore</th>\n",
       "      <th>WLoc</th>\n",
       "      <th>NumOT</th>\n",
       "      <th>WFGM</th>\n",
       "      <th>WFGA</th>\n",
       "      <th>...</th>\n",
       "      <th>LFGA3</th>\n",
       "      <th>LFTM</th>\n",
       "      <th>LFTA</th>\n",
       "      <th>LOR</th>\n",
       "      <th>LDR</th>\n",
       "      <th>LAst</th>\n",
       "      <th>LTO</th>\n",
       "      <th>LStl</th>\n",
       "      <th>LBlk</th>\n",
       "      <th>LPF</th>\n",
       "    </tr>\n",
       "  </thead>\n",
       "  <tbody>\n",
       "  </tbody>\n",
       "</table>\n",
       "<p>0 rows × 34 columns</p>\n",
       "</div>"
      ],
      "text/plain": [
       "Empty DataFrame\n",
       "Columns: [Season, DayNum, WTeamID, WScore, LTeamID, LScore, WLoc, NumOT, WFGM, WFGA, WFGM3, WFGA3, WFTM, WFTA, WOR, WDR, WAst, WTO, WStl, WBlk, WPF, LFGM, LFGA, LFGM3, LFGA3, LFTM, LFTA, LOR, LDR, LAst, LTO, LStl, LBlk, LPF]\n",
       "Index: []\n",
       "\n",
       "[0 rows x 34 columns]"
      ]
     },
     "execution_count": 6,
     "metadata": {},
     "output_type": "execute_result"
    }
   ],
   "source": [
    "season.regular_season_results"
   ]
  },
  {
   "cell_type": "code",
   "execution_count": null,
   "id": "85f00fea",
   "metadata": {},
   "outputs": [],
   "source": [
    "season.tourney_seeds"
   ]
  },
  {
   "cell_type": "code",
   "execution_count": null,
   "id": "69201f7d",
   "metadata": {},
   "outputs": [],
   "source": [
    "team = season.teams[1261]"
   ]
  },
  {
   "cell_type": "code",
   "execution_count": null,
   "id": "9d242dcf",
   "metadata": {},
   "outputs": [],
   "source": [
    "team.win_data"
   ]
  },
  {
   "cell_type": "code",
   "execution_count": null,
   "id": "d9f1da4e",
   "metadata": {},
   "outputs": [],
   "source": [
    "team.loss_data"
   ]
  },
  {
   "cell_type": "code",
   "execution_count": null,
   "id": "0ab654d1",
   "metadata": {},
   "outputs": [],
   "source": [
    "team.win_data.shape"
   ]
  },
  {
   "cell_type": "code",
   "execution_count": null,
   "id": "93988a79",
   "metadata": {},
   "outputs": [],
   "source": [
    "team.features.keys()"
   ]
  },
  {
   "cell_type": "code",
   "execution_count": null,
   "id": "f3e27a14",
   "metadata": {},
   "outputs": [],
   "source": [
    "season.calc_teams_net_detailed_game_stats()"
   ]
  },
  {
   "cell_type": "code",
   "execution_count": null,
   "id": "ff21eeb1",
   "metadata": {},
   "outputs": [],
   "source": [
    "team.features.keys()"
   ]
  },
  {
   "cell_type": "markdown",
   "id": "0ffbdd10",
   "metadata": {},
   "source": [
    "metric_keys = ['FGM','FGA','FGM3','FGA3','FTM','FTA','OR','DR','Ast','TO','Stl','Blk','PF',\n",
    "               'TR','FGM2','FGA2','FG%','FG2%','FG3%','FGA3%','FT%','Pos','OEff']"
   ]
  },
  {
   "cell_type": "markdown",
   "id": "e0d508fd",
   "metadata": {},
   "source": [
    "### Team Net Stats"
   ]
  },
  {
   "cell_type": "markdown",
   "id": "f5efe409",
   "metadata": {},
   "source": [
    "precision = 4\n",
    "for metric in metric_keys:\n",
    "    net_values = []\n",
    "    game_count = 0\n",
    "    for i in team.win_data.index:\n",
    "        game = team.win_data.loc[i]\n",
    "        \n",
    "        team_game_value = game[f'W{metric}']\n",
    "        \n",
    "        opp_id = game['LTeamID']\n",
    "        opp_avg_value = season.teams[opp_id].features[f'Opp Avg {metric}']\n",
    "        \n",
    "        if np.isnan(team_game_value) or np.isnan(opp_avg_value):\n",
    "            continue\n",
    "        \n",
    "        net_value = team_game_value - opp_avg_value\n",
    "        \n",
    "        net_values.append(net_value)\n",
    "        \n",
    "    for i in team.loss_data.index:\n",
    "        game = team.loss_data.loc[i]\n",
    "        \n",
    "        team_game_value = game[f'L{metric}']\n",
    "        \n",
    "        opp_id = game['WTeamID']\n",
    "        opp_avg_value = season.teams[opp_id].features[f'Opp Avg {metric}']\n",
    "        \n",
    "        if np.isnan(team_game_value) or np.isnan(opp_avg_value):\n",
    "            continue\n",
    "        \n",
    "        net_value = team_game_value - opp_avg_value\n",
    "        \n",
    "        net_values.append(net_value)\n",
    "        \n",
    "    team_net_value = np.mean(net_values)\n",
    "    team.features[f'Net Team Avg {metric}'] = round(team_net_value,precision)"
   ]
  },
  {
   "cell_type": "markdown",
   "id": "06994af2",
   "metadata": {},
   "source": [
    "for metric in metric_keys:\n",
    "    net_values = []\n",
    "    game_count = 0\n",
    "    for i in team.win_data.index:\n",
    "        game = team.win_data.loc[i]\n",
    "        \n",
    "        opp_game_value = game[f'L{metric}']\n",
    "        \n",
    "        opp_id = game['LTeamID']\n",
    "        opp_avg_value = season.teams[opp_id].features[f'Team Avg {metric}']\n",
    "        \n",
    "        if np.isnan(opp_game_value) or np.isnan(opp_avg_value):\n",
    "            continue\n",
    "        \n",
    "        net_value = opp_game_value - opp_avg_value\n",
    "        \n",
    "        net_values.append(net_value)\n",
    "        \n",
    "    for i in team.loss_data.index:\n",
    "        game = team.loss_data.loc[i]\n",
    "        \n",
    "        opp_game_value = game[f'W{metric}']\n",
    "        \n",
    "        opp_id = game['WTeamID']\n",
    "        opp_avg_value = season.teams[opp_id].features[f'Team Avg {metric}']\n",
    "        \n",
    "        if np.isnan(opp_game_value) or np.isnan(opp_avg_value):\n",
    "            continue\n",
    "        \n",
    "        net_value = opp_game_value - opp_avg_value\n",
    "        \n",
    "        net_values.append(net_value)\n",
    "        \n",
    "    team_net_value = np.mean(net_values)\n",
    "    team.features[f'Net Opp Avg {metric}'] = round(team_net_value,precision)"
   ]
  },
  {
   "cell_type": "markdown",
   "id": "f4b8774f",
   "metadata": {},
   "source": [
    "team.features.keys()"
   ]
  },
  {
   "cell_type": "code",
   "execution_count": null,
   "id": "711eea16",
   "metadata": {},
   "outputs": [],
   "source": []
  }
 ],
 "metadata": {
  "kernelspec": {
   "display_name": "Python 3",
   "language": "python",
   "name": "python3"
  },
  "language_info": {
   "codemirror_mode": {
    "name": "ipython",
    "version": 3
   },
   "file_extension": ".py",
   "mimetype": "text/x-python",
   "name": "python",
   "nbconvert_exporter": "python",
   "pygments_lexer": "ipython3",
   "version": "3.8.8"
  }
 },
 "nbformat": 4,
 "nbformat_minor": 5
}
