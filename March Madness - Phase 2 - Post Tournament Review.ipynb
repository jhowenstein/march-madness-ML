{
 "cells": [
  {
   "cell_type": "code",
   "execution_count": 1,
   "id": "e50e2fba",
   "metadata": {},
   "outputs": [],
   "source": [
    "import numpy as np\n",
    "import pandas as pd\n",
    "\n",
    "import matplotlib.pyplot as plt\n",
    "\n",
    "import os\n",
    "import time\n",
    "\n",
    "import march_madness as mm\n",
    "import random\n",
    "\n",
    "from sklearn.model_selection import train_test_split\n",
    "from sklearn.linear_model import LogisticRegression\n",
    "from sklearn.ensemble import RandomForestClassifier\n",
    "from sklearn.preprocessing import PolynomialFeatures"
   ]
  },
  {
   "cell_type": "code",
   "execution_count": 2,
   "id": "b617a911",
   "metadata": {},
   "outputs": [],
   "source": [
    "analysis = mm.Analysis()"
   ]
  },
  {
   "cell_type": "code",
   "execution_count": 3,
   "id": "37539044",
   "metadata": {},
   "outputs": [],
   "source": [
    "analysis.load_training_data('MDataFiles_Stage2/calculated features 1985-2021.csv')"
   ]
  },
  {
   "cell_type": "code",
   "execution_count": 4,
   "id": "e442ec53",
   "metadata": {},
   "outputs": [],
   "source": [
    "analysis.load_validation_data('MDataFiles_Stage2/calculated features 2022.csv')"
   ]
  },
  {
   "cell_type": "markdown",
   "id": "d780afc3",
   "metadata": {},
   "source": [
    "# Overview\n",
    "\n",
    "This notebook tests the actual results of the 2022 tournamend against the models I developed during the second phase of my work on this project (after official submissions were closed).\n",
    "\n",
    "The a more detailed process of how I developed these models can be found here.\n",
    "\n",
    "https://github.com/jhowenstein/march-madness-ML/blob/main/March%20Madness%20-%20Phase%202%20-%20Process%20Write-Up.ipynb"
   ]
  },
  {
   "cell_type": "markdown",
   "id": "c2a62d91",
   "metadata": {},
   "source": [
    "# Notable Results\n",
    "\n",
    "* The Random Forest performed better using the additional game information and features. Overall these models seemed to generalize quite well. \n",
    "* The Logistic Regression models actually performed worse than their results in Phase 1.\n",
    "* The final Random Forest model using all the features scored 0.61260 which would've placed 126nd out 930 submissions."
   ]
  },
  {
   "cell_type": "markdown",
   "id": "45e3dd19",
   "metadata": {},
   "source": [
    "# Phase 2 - Detailed Game Result Models\n",
    "\n",
    "Phase 2 of the model training is using the 'detailed game results' for each game that gives additional box score stats beyond the final score of each game.\n",
    "\n",
    "These stats included the follwing for both teams:\n",
    "* FGM - field goals made\n",
    "* FGA - field goals attempted\n",
    "* FGM3 - three pointers made\n",
    "* FGA3 - three pointers attempted\n",
    "* FTM - free throws made\n",
    "* FTA - free throws attempted\n",
    "* OR - offensive rebounds\n",
    "* DR - defensive rebounds\n",
    "* Ast - assists\n",
    "* TO - turnovers committed\n",
    "* Stl - steals\n",
    "* Blk - blocks\n",
    "* PF - personal fouls committed"
   ]
  },
  {
   "cell_type": "markdown",
   "id": "831b7ef7",
   "metadata": {},
   "source": [
    "## Detailed Game Results"
   ]
  },
  {
   "cell_type": "code",
   "execution_count": 5,
   "id": "e69c0921",
   "metadata": {},
   "outputs": [],
   "source": [
    "feature_keys = ['tourney seed','weighted win pct','owp','oowp','avg win margin','std win margin','avg loss margin',\n",
    "                'std loss margin','capped avg win margin','capped std win margin','capped avg loss margin',\n",
    "                'capped std loss margin','close wins','close losses','weighted top64 wins','weighted top32 wins',\n",
    "                'weighted top16 wins','weighted top8 wins','weighted top64 losses','weighted top32 losses',\n",
    "                'weighted top16 losses','weighted top8 losses','last10 win pct','last10 weighted win pct',\n",
    "                'last5 win pct','last5 weighted win pct','conference tourney wins','conference champ','Team Avg FGM',\n",
    "                'Team Avg FGA','Team Avg FGM3','Team Avg FGA3','Team Avg FTM','Team Avg FTA',\n",
    "                'Team Avg OR','Team Avg DR','Team Avg Ast','Team Avg TO%','Team Avg Stl%','Team Avg Blk%',\n",
    "                'Team Avg PF','Team Avg TR','Team Avg FGM2','Team Avg FGA2','Team Avg FG%','Team Avg FG2%',\n",
    "                'Team Avg FG3%','Team Avg FGA3%','Team Avg FT%','Team Avg Pos','Team Avg OEff','Opp Avg FGM',\n",
    "                'Opp Avg FGA','Opp Avg FGM3','Opp Avg FGA3','Opp Avg FTM','Opp Avg FTA','Opp Avg OR','Opp Avg DR',\n",
    "                'Opp Avg Ast','Opp Avg TO%','Opp Avg Stl%','Opp Avg Blk%','Opp Avg PF','Opp Avg TR','Opp Avg FGM2',\n",
    "                'Opp Avg FGA2','Opp Avg FG%','Opp Avg FG2%','Opp Avg FG3%','Opp Avg FGA3%','Opp Avg FT%',\n",
    "                'Opp Avg Pos','Opp Avg OEff']"
   ]
  },
  {
   "cell_type": "code",
   "execution_count": 6,
   "id": "3b53e1ad",
   "metadata": {},
   "outputs": [],
   "source": [
    "X_train, y_train = analysis.extract_training_data(feature_keys=feature_keys)"
   ]
  },
  {
   "cell_type": "code",
   "execution_count": 7,
   "id": "c62a9e6c",
   "metadata": {},
   "outputs": [],
   "source": [
    "X_test, y_test = analysis.extract_validation_data(feature_keys=feature_keys)"
   ]
  },
  {
   "cell_type": "code",
   "execution_count": 8,
   "id": "44c336fe",
   "metadata": {},
   "outputs": [
    {
     "name": "stderr",
     "output_type": "stream",
     "text": [
      "/opt/anaconda3/lib/python3.8/site-packages/sklearn/linear_model/_logistic.py:763: ConvergenceWarning: lbfgs failed to converge (status=1):\n",
      "STOP: TOTAL NO. of ITERATIONS REACHED LIMIT.\n",
      "\n",
      "Increase the number of iterations (max_iter) or scale the data as shown in:\n",
      "    https://scikit-learn.org/stable/modules/preprocessing.html\n",
      "Please also refer to the documentation for alternative solver options:\n",
      "    https://scikit-learn.org/stable/modules/linear_model.html#logistic-regression\n",
      "  n_iter_i = _check_optimize_result(\n"
     ]
    }
   ],
   "source": [
    "logreg = LogisticRegression().fit(X_train,y_train)"
   ]
  },
  {
   "cell_type": "code",
   "execution_count": 9,
   "id": "e7416901",
   "metadata": {},
   "outputs": [
    {
     "data": {
      "text/plain": [
       "0.7367285282693138"
      ]
     },
     "execution_count": 9,
     "metadata": {},
     "output_type": "execute_result"
    }
   ],
   "source": [
    "logreg.score(X_train,y_train)"
   ]
  },
  {
   "cell_type": "code",
   "execution_count": 10,
   "id": "6d7d52e5",
   "metadata": {},
   "outputs": [
    {
     "data": {
      "text/plain": [
       "0.6119402985074627"
      ]
     },
     "execution_count": 10,
     "metadata": {},
     "output_type": "execute_result"
    }
   ],
   "source": [
    "logreg.score(X_test,y_test)"
   ]
  },
  {
   "cell_type": "code",
   "execution_count": 11,
   "id": "87ee1992",
   "metadata": {},
   "outputs": [],
   "source": [
    "forest = RandomForestClassifier(n_estimators=10000,max_features='sqrt',\n",
    "                                max_depth=5,random_state=100,n_jobs=2).fit(X_train,y_train)"
   ]
  },
  {
   "cell_type": "code",
   "execution_count": 12,
   "id": "906f8b85",
   "metadata": {},
   "outputs": [
    {
     "data": {
      "text/plain": [
       "0.778593008200259"
      ]
     },
     "execution_count": 12,
     "metadata": {},
     "output_type": "execute_result"
    }
   ],
   "source": [
    "forest.score(X_train,y_train)"
   ]
  },
  {
   "cell_type": "code",
   "execution_count": 13,
   "id": "05bc00a6",
   "metadata": {},
   "outputs": [
    {
     "data": {
      "text/plain": [
       "0.6567164179104478"
      ]
     },
     "execution_count": 13,
     "metadata": {},
     "output_type": "execute_result"
    }
   ],
   "source": [
    "forest.score(X_test,y_test)"
   ]
  },
  {
   "cell_type": "code",
   "execution_count": 14,
   "id": "61ca73af",
   "metadata": {},
   "outputs": [],
   "source": [
    "logreg_pred = mm.bound_predictions(logreg.predict_proba(X_test)[:,1])"
   ]
  },
  {
   "cell_type": "code",
   "execution_count": 15,
   "id": "4b5a72d8",
   "metadata": {},
   "outputs": [],
   "source": [
    "forest_pred = mm.bound_predictions(forest.predict_proba(X_test)[:,1])"
   ]
  },
  {
   "cell_type": "code",
   "execution_count": 16,
   "id": "d8f09247",
   "metadata": {},
   "outputs": [
    {
     "data": {
      "text/plain": [
       "0.71873"
      ]
     },
     "execution_count": 16,
     "metadata": {},
     "output_type": "execute_result"
    }
   ],
   "source": [
    "analysis.score_model_predictions(y_test,logreg_pred)"
   ]
  },
  {
   "cell_type": "code",
   "execution_count": 17,
   "id": "1e7cee99",
   "metadata": {},
   "outputs": [
    {
     "data": {
      "text/plain": [
       "0.60786"
      ]
     },
     "execution_count": 17,
     "metadata": {},
     "output_type": "execute_result"
    }
   ],
   "source": [
    "analysis.score_model_predictions(y_test,forest_pred)"
   ]
  },
  {
   "cell_type": "markdown",
   "id": "5277ed46",
   "metadata": {},
   "source": [
    "## Detailed Game Results + Interactions"
   ]
  },
  {
   "cell_type": "markdown",
   "id": "db9230ca",
   "metadata": {},
   "source": [
    "Additionally, the interactions between all of these features were added to the model. This appeared to help the Random Forest but actually hurt the Logistic Regression."
   ]
  },
  {
   "cell_type": "code",
   "execution_count": 18,
   "id": "b5a9d533",
   "metadata": {},
   "outputs": [],
   "source": [
    "feature_keys = ['tourney seed','weighted win pct','owp','oowp','avg win margin','std win margin','avg loss margin',\n",
    "                'std loss margin','capped avg win margin','capped std win margin','capped avg loss margin',\n",
    "                'capped std loss margin','close wins','close losses','weighted top64 wins','weighted top32 wins',\n",
    "                'weighted top16 wins','weighted top8 wins','weighted top64 losses','weighted top32 losses',\n",
    "                'weighted top16 losses','weighted top8 losses','last10 win pct','last10 weighted win pct',\n",
    "                'last5 win pct','last5 weighted win pct','conference tourney wins','conference champ','Team Avg FGM',\n",
    "                'Team Avg FGA','Team Avg FGM3','Team Avg FGA3','Team Avg FTM','Team Avg FTA',\n",
    "                'Team Avg OR','Team Avg DR','Team Avg Ast','Team Avg TO%','Team Avg Stl%','Team Avg Blk%',\n",
    "                'Team Avg PF','Team Avg TR','Team Avg FGM2','Team Avg FGA2','Team Avg FG%','Team Avg FG2%',\n",
    "                'Team Avg FG3%','Team Avg FGA3%','Team Avg FT%','Team Avg Pos','Team Avg OEff','Opp Avg FGM',\n",
    "                'Opp Avg FGA','Opp Avg FGM3','Opp Avg FGA3','Opp Avg FTM','Opp Avg FTA','Opp Avg OR','Opp Avg DR',\n",
    "                'Opp Avg Ast','Opp Avg TO%','Opp Avg Stl%','Opp Avg Blk%','Opp Avg PF','Opp Avg TR','Opp Avg FGM2',\n",
    "                'Opp Avg FGA2','Opp Avg FG%','Opp Avg FG2%','Opp Avg FG3%','Opp Avg FGA3%','Opp Avg FT%',\n",
    "                'Opp Avg Pos','Opp Avg OEff']"
   ]
  },
  {
   "cell_type": "code",
   "execution_count": 19,
   "id": "56525d1f",
   "metadata": {},
   "outputs": [],
   "source": [
    "X_train, y_train = analysis.extract_training_data(feature_keys=feature_keys)"
   ]
  },
  {
   "cell_type": "code",
   "execution_count": 20,
   "id": "340de731",
   "metadata": {},
   "outputs": [],
   "source": [
    "X_test, y_test = analysis.extract_validation_data(feature_keys=feature_keys)"
   ]
  },
  {
   "cell_type": "code",
   "execution_count": 21,
   "id": "72b41daf",
   "metadata": {},
   "outputs": [],
   "source": [
    "poly = PolynomialFeatures(2)"
   ]
  },
  {
   "cell_type": "code",
   "execution_count": 22,
   "id": "11a9eaa6",
   "metadata": {},
   "outputs": [],
   "source": [
    "X_train = poly.fit_transform(X_train)\n",
    "X_test = poly.fit_transform(X_test)"
   ]
  },
  {
   "cell_type": "code",
   "execution_count": 23,
   "id": "674b1c46",
   "metadata": {},
   "outputs": [
    {
     "name": "stderr",
     "output_type": "stream",
     "text": [
      "/opt/anaconda3/lib/python3.8/site-packages/sklearn/linear_model/_logistic.py:763: ConvergenceWarning: lbfgs failed to converge (status=1):\n",
      "STOP: TOTAL NO. of ITERATIONS REACHED LIMIT.\n",
      "\n",
      "Increase the number of iterations (max_iter) or scale the data as shown in:\n",
      "    https://scikit-learn.org/stable/modules/preprocessing.html\n",
      "Please also refer to the documentation for alternative solver options:\n",
      "    https://scikit-learn.org/stable/modules/linear_model.html#logistic-regression\n",
      "  n_iter_i = _check_optimize_result(\n"
     ]
    }
   ],
   "source": [
    "logreg = LogisticRegression().fit(X_train,y_train)"
   ]
  },
  {
   "cell_type": "code",
   "execution_count": 24,
   "id": "f1bcf1f2",
   "metadata": {},
   "outputs": [
    {
     "data": {
      "text/plain": [
       "0.7388864911523522"
      ]
     },
     "execution_count": 24,
     "metadata": {},
     "output_type": "execute_result"
    }
   ],
   "source": [
    "logreg.score(X_train,y_train)"
   ]
  },
  {
   "cell_type": "code",
   "execution_count": 25,
   "id": "66705274",
   "metadata": {},
   "outputs": [
    {
     "data": {
      "text/plain": [
       "0.5970149253731343"
      ]
     },
     "execution_count": 25,
     "metadata": {},
     "output_type": "execute_result"
    }
   ],
   "source": [
    "logreg.score(X_test,y_test)"
   ]
  },
  {
   "cell_type": "code",
   "execution_count": 26,
   "id": "3e1b1412",
   "metadata": {},
   "outputs": [],
   "source": [
    "forest = RandomForestClassifier(n_estimators=10000,max_features='sqrt',\n",
    "                                max_depth=5,random_state=100,n_jobs=2).fit(X_train,y_train)"
   ]
  },
  {
   "cell_type": "code",
   "execution_count": 27,
   "id": "c73d4463",
   "metadata": {},
   "outputs": [
    {
     "data": {
      "text/plain": [
       "0.7980146741476046"
      ]
     },
     "execution_count": 27,
     "metadata": {},
     "output_type": "execute_result"
    }
   ],
   "source": [
    "forest.score(X_train,y_train)"
   ]
  },
  {
   "cell_type": "code",
   "execution_count": 28,
   "id": "c8139179",
   "metadata": {},
   "outputs": [
    {
     "data": {
      "text/plain": [
       "0.6716417910447762"
      ]
     },
     "execution_count": 28,
     "metadata": {},
     "output_type": "execute_result"
    }
   ],
   "source": [
    "forest.score(X_test,y_test)"
   ]
  },
  {
   "cell_type": "code",
   "execution_count": 29,
   "id": "d4beda83",
   "metadata": {},
   "outputs": [],
   "source": [
    "logreg_pred = mm.bound_predictions(logreg.predict_proba(X_test)[:,1])"
   ]
  },
  {
   "cell_type": "code",
   "execution_count": 30,
   "id": "6c836a9a",
   "metadata": {},
   "outputs": [],
   "source": [
    "forest_pred = mm.bound_predictions(forest.predict_proba(X_test)[:,1])"
   ]
  },
  {
   "cell_type": "code",
   "execution_count": 31,
   "id": "9bb75beb",
   "metadata": {},
   "outputs": [
    {
     "data": {
      "text/plain": [
       "0.79019"
      ]
     },
     "execution_count": 31,
     "metadata": {},
     "output_type": "execute_result"
    }
   ],
   "source": [
    "analysis.score_model_predictions(y_test,logreg_pred)"
   ]
  },
  {
   "cell_type": "code",
   "execution_count": 32,
   "id": "93a0109e",
   "metadata": {},
   "outputs": [
    {
     "data": {
      "text/plain": [
       "0.61594"
      ]
     },
     "execution_count": 32,
     "metadata": {},
     "output_type": "execute_result"
    }
   ],
   "source": [
    "analysis.score_model_predictions(y_test,forest_pred)"
   ]
  },
  {
   "cell_type": "markdown",
   "id": "4644e3a0",
   "metadata": {},
   "source": [
    "## Net Detailed Game Results"
   ]
  },
  {
   "cell_type": "markdown",
   "id": "1103f6a9",
   "metadata": {},
   "source": [
    "The last features I engineer were the 'net' statistics for all these parameters. These parameters can be interpreted as \"how the team did compared to what the opponent generally allowed\". For example if an opponent allows an average of 5 three-pointers per game and the team scored 10, that would be a net of 5 for that parameter in that game. \n",
    "\n",
    "So on offense these metrics capture, how well did the team do compared to what their opponents allow on average.\n",
    "\n",
    "And on defense they capture, how well did you limit your opponent compared to how much they normally produce.\n",
    "\n",
    "'Net' parameters were calculated for all stats derived from the 'detailed' information and were the average difference for all of the team's games."
   ]
  },
  {
   "cell_type": "code",
   "execution_count": 33,
   "id": "68dbafa4",
   "metadata": {},
   "outputs": [],
   "source": [
    "feature_keys = ['tourney seed','weighted win pct','owp','oowp','avg win margin','std win margin','avg loss margin',\n",
    "                'std loss margin','capped avg win margin','capped std win margin','capped avg loss margin',\n",
    "                'capped std loss margin','close wins','close losses','weighted top64 wins','weighted top32 wins',\n",
    "                'weighted top16 wins','weighted top8 wins','weighted top64 losses','weighted top32 losses',\n",
    "                'weighted top16 losses','weighted top8 losses','last10 win pct','last10 weighted win pct',\n",
    "                'last5 win pct','last5 weighted win pct','conference tourney wins','conference champ','Team Avg FGM',\n",
    "                'Team Avg FGA','Team Avg FGM3','Team Avg FGA3','Team Avg FTM','Team Avg FTA',\n",
    "                'Team Avg OR','Team Avg DR','Team Avg Ast','Team Avg TO%','Team Avg Stl%','Team Avg Blk%',\n",
    "                'Team Avg PF','Team Avg TR','Team Avg FGM2','Team Avg FGA2','Team Avg FG%','Team Avg FG2%',\n",
    "                'Team Avg FG3%','Team Avg FGA3%','Team Avg FT%','Team Avg Pos','Team Avg OEff','Opp Avg FGM',\n",
    "                'Opp Avg FGA','Opp Avg FGM3','Opp Avg FGA3','Opp Avg FTM','Opp Avg FTA','Opp Avg OR','Opp Avg DR',\n",
    "                'Opp Avg Ast','Opp Avg TO%','Opp Avg Stl%','Opp Avg Blk%','Opp Avg PF','Opp Avg TR','Opp Avg FGM2',\n",
    "                'Opp Avg FGA2','Opp Avg FG%','Opp Avg FG2%','Opp Avg FG3%','Opp Avg FGA3%','Opp Avg FT%',\n",
    "                'Opp Avg Pos','Opp Avg OEff','Net Team Avg FGM','Net Team Avg FGA','Net Team Avg FGM3',\n",
    "                'Net Team Avg FGA3','Net Team Avg FTM','Net Team Avg FTA','Net Team Avg OR','Net Team Avg DR',\n",
    "                'Net Team Avg Ast','Net Team Avg TO%','Net Team Avg Stl%','Net Team Avg Blk%','Net Team Avg PF',\n",
    "                'Net Team Avg TR','Net Team Avg FGM2','Net Team Avg FGA2','Net Team Avg FG%','Net Team Avg FG2%',\n",
    "                'Net Team Avg FG3%','Net Team Avg FGA3%','Net Team Avg FT%','Net Team Avg Pos','Net Team Avg OEff',\n",
    "                'Net Opp Avg FGM','Net Opp Avg FGA','Net Opp Avg FGM3','Net Opp Avg FGA3','Net Opp Avg FTM',\n",
    "                'Net Opp Avg FTA','Net Opp Avg OR','Net Opp Avg DR','Net Opp Avg Ast','Net Opp Avg TO%',\n",
    "                'Net Opp Avg Stl%','Net Opp Avg Blk%','Net Opp Avg PF','Net Opp Avg TR','Net Opp Avg FGM2',\n",
    "                'Net Opp Avg FGA2','Net Opp Avg FG%','Net Opp Avg FG2%','Net Opp Avg FG3%','Net Opp Avg FGA3%',\n",
    "                'Net Opp Avg FT%','Net Opp Avg Pos','Net Opp Avg OEff']"
   ]
  },
  {
   "cell_type": "code",
   "execution_count": 34,
   "id": "ff713327",
   "metadata": {},
   "outputs": [],
   "source": [
    "X_train, y_train = analysis.extract_training_data(feature_keys=feature_keys)"
   ]
  },
  {
   "cell_type": "code",
   "execution_count": 35,
   "id": "2906def8",
   "metadata": {},
   "outputs": [],
   "source": [
    "X_test, y_test = analysis.extract_validation_data(feature_keys=feature_keys)"
   ]
  },
  {
   "cell_type": "code",
   "execution_count": 36,
   "id": "de712f2d",
   "metadata": {},
   "outputs": [
    {
     "name": "stderr",
     "output_type": "stream",
     "text": [
      "/opt/anaconda3/lib/python3.8/site-packages/sklearn/linear_model/_logistic.py:763: ConvergenceWarning: lbfgs failed to converge (status=1):\n",
      "STOP: TOTAL NO. of ITERATIONS REACHED LIMIT.\n",
      "\n",
      "Increase the number of iterations (max_iter) or scale the data as shown in:\n",
      "    https://scikit-learn.org/stable/modules/preprocessing.html\n",
      "Please also refer to the documentation for alternative solver options:\n",
      "    https://scikit-learn.org/stable/modules/linear_model.html#logistic-regression\n",
      "  n_iter_i = _check_optimize_result(\n"
     ]
    }
   ],
   "source": [
    "logreg = LogisticRegression().fit(X_train,y_train)"
   ]
  },
  {
   "cell_type": "code",
   "execution_count": 37,
   "id": "3da6a782",
   "metadata": {},
   "outputs": [
    {
     "data": {
      "text/plain": [
       "0.7427708243418213"
      ]
     },
     "execution_count": 37,
     "metadata": {},
     "output_type": "execute_result"
    }
   ],
   "source": [
    "logreg.score(X_train,y_train)"
   ]
  },
  {
   "cell_type": "code",
   "execution_count": 38,
   "id": "cad7d869",
   "metadata": {},
   "outputs": [
    {
     "data": {
      "text/plain": [
       "0.5970149253731343"
      ]
     },
     "execution_count": 38,
     "metadata": {},
     "output_type": "execute_result"
    }
   ],
   "source": [
    "logreg.score(X_test,y_test)"
   ]
  },
  {
   "cell_type": "code",
   "execution_count": 39,
   "id": "b6bec63c",
   "metadata": {},
   "outputs": [],
   "source": [
    "forest = RandomForestClassifier(n_estimators=10000,max_features='sqrt',\n",
    "                                max_depth=5,random_state=100,n_jobs=2).fit(X_train,y_train)"
   ]
  },
  {
   "cell_type": "code",
   "execution_count": 40,
   "id": "31d93763",
   "metadata": {},
   "outputs": [
    {
     "data": {
      "text/plain": [
       "0.7820457488131204"
      ]
     },
     "execution_count": 40,
     "metadata": {},
     "output_type": "execute_result"
    }
   ],
   "source": [
    "forest.score(X_train,y_train)"
   ]
  },
  {
   "cell_type": "code",
   "execution_count": 41,
   "id": "6068c34c",
   "metadata": {},
   "outputs": [
    {
     "data": {
      "text/plain": [
       "0.6567164179104478"
      ]
     },
     "execution_count": 41,
     "metadata": {},
     "output_type": "execute_result"
    }
   ],
   "source": [
    "forest.score(X_test,y_test)"
   ]
  },
  {
   "cell_type": "code",
   "execution_count": 42,
   "id": "3dbb6db5",
   "metadata": {},
   "outputs": [],
   "source": [
    "logreg_pred = mm.bound_predictions(logreg.predict_proba(X_test)[:,1])"
   ]
  },
  {
   "cell_type": "code",
   "execution_count": 43,
   "id": "8e4515f1",
   "metadata": {},
   "outputs": [],
   "source": [
    "forest_pred = mm.bound_predictions(forest.predict_proba(X_test)[:,1])"
   ]
  },
  {
   "cell_type": "code",
   "execution_count": 44,
   "id": "a40791cb",
   "metadata": {},
   "outputs": [
    {
     "data": {
      "text/plain": [
       "0.71672"
      ]
     },
     "execution_count": 44,
     "metadata": {},
     "output_type": "execute_result"
    }
   ],
   "source": [
    "analysis.score_model_predictions(y_test,logreg_pred)"
   ]
  },
  {
   "cell_type": "code",
   "execution_count": 45,
   "id": "793d96e2",
   "metadata": {},
   "outputs": [
    {
     "data": {
      "text/plain": [
       "0.60629"
      ]
     },
     "execution_count": 45,
     "metadata": {},
     "output_type": "execute_result"
    }
   ],
   "source": [
    "analysis.score_model_predictions(y_test,forest_pred)"
   ]
  },
  {
   "cell_type": "markdown",
   "id": "c06a3a76",
   "metadata": {},
   "source": [
    "## Net Detailed Game Results + Interactions"
   ]
  },
  {
   "cell_type": "markdown",
   "id": "ec652527",
   "metadata": {},
   "source": [
    "Again, the interactions between all of these features were added to the model. This again, helped the Random Forest and hurt the Logistic Regression."
   ]
  },
  {
   "cell_type": "code",
   "execution_count": 46,
   "id": "b11c1e3a",
   "metadata": {},
   "outputs": [],
   "source": [
    "feature_keys = ['tourney seed','weighted win pct','owp','oowp','avg win margin','std win margin','avg loss margin',\n",
    "                'std loss margin','capped avg win margin','capped std win margin','capped avg loss margin',\n",
    "                'capped std loss margin','close wins','close losses','weighted top64 wins','weighted top32 wins',\n",
    "                'weighted top16 wins','weighted top8 wins','weighted top64 losses','weighted top32 losses',\n",
    "                'weighted top16 losses','weighted top8 losses','last10 win pct','last10 weighted win pct',\n",
    "                'last5 win pct','last5 weighted win pct','conference tourney wins','conference champ','Team Avg FGM',\n",
    "                'Team Avg FGA','Team Avg FGM3','Team Avg FGA3','Team Avg FTM','Team Avg FTA',\n",
    "                'Team Avg OR','Team Avg DR','Team Avg Ast','Team Avg TO%','Team Avg Stl%','Team Avg Blk%',\n",
    "                'Team Avg PF','Team Avg TR','Team Avg FGM2','Team Avg FGA2','Team Avg FG%','Team Avg FG2%',\n",
    "                'Team Avg FG3%','Team Avg FGA3%','Team Avg FT%','Team Avg Pos','Team Avg OEff','Opp Avg FGM',\n",
    "                'Opp Avg FGA','Opp Avg FGM3','Opp Avg FGA3','Opp Avg FTM','Opp Avg FTA','Opp Avg OR','Opp Avg DR',\n",
    "                'Opp Avg Ast','Opp Avg TO%','Opp Avg Stl%','Opp Avg Blk%','Opp Avg PF','Opp Avg TR','Opp Avg FGM2',\n",
    "                'Opp Avg FGA2','Opp Avg FG%','Opp Avg FG2%','Opp Avg FG3%','Opp Avg FGA3%','Opp Avg FT%',\n",
    "                'Opp Avg Pos','Opp Avg OEff','Net Team Avg FGM','Net Team Avg FGA','Net Team Avg FGM3',\n",
    "                'Net Team Avg FGA3','Net Team Avg FTM','Net Team Avg FTA','Net Team Avg OR','Net Team Avg DR',\n",
    "                'Net Team Avg Ast','Net Team Avg TO%','Net Team Avg Stl%','Net Team Avg Blk%','Net Team Avg PF',\n",
    "                'Net Team Avg TR','Net Team Avg FGM2','Net Team Avg FGA2','Net Team Avg FG%','Net Team Avg FG2%',\n",
    "                'Net Team Avg FG3%','Net Team Avg FGA3%','Net Team Avg FT%','Net Team Avg Pos','Net Team Avg OEff',\n",
    "                'Net Opp Avg FGM','Net Opp Avg FGA','Net Opp Avg FGM3','Net Opp Avg FGA3','Net Opp Avg FTM',\n",
    "                'Net Opp Avg FTA','Net Opp Avg OR','Net Opp Avg DR','Net Opp Avg Ast','Net Opp Avg TO%',\n",
    "                'Net Opp Avg Stl%','Net Opp Avg Blk%','Net Opp Avg PF','Net Opp Avg TR','Net Opp Avg FGM2',\n",
    "                'Net Opp Avg FGA2','Net Opp Avg FG%','Net Opp Avg FG2%','Net Opp Avg FG3%','Net Opp Avg FGA3%',\n",
    "                'Net Opp Avg FT%','Net Opp Avg Pos','Net Opp Avg OEff']"
   ]
  },
  {
   "cell_type": "code",
   "execution_count": 47,
   "id": "a5877353",
   "metadata": {},
   "outputs": [],
   "source": [
    "X_train, y_train = analysis.extract_training_data(feature_keys=feature_keys)"
   ]
  },
  {
   "cell_type": "code",
   "execution_count": 48,
   "id": "56c34cbc",
   "metadata": {},
   "outputs": [],
   "source": [
    "X_test, y_test = analysis.extract_validation_data(feature_keys=feature_keys)"
   ]
  },
  {
   "cell_type": "code",
   "execution_count": 49,
   "id": "d31e56fb",
   "metadata": {},
   "outputs": [],
   "source": [
    "poly = PolynomialFeatures(2)"
   ]
  },
  {
   "cell_type": "code",
   "execution_count": 50,
   "id": "1599b483",
   "metadata": {},
   "outputs": [],
   "source": [
    "X_train = poly.fit_transform(X_train)\n",
    "X_test = poly.fit_transform(X_test)"
   ]
  },
  {
   "cell_type": "code",
   "execution_count": 51,
   "id": "600a903b",
   "metadata": {},
   "outputs": [
    {
     "name": "stderr",
     "output_type": "stream",
     "text": [
      "/opt/anaconda3/lib/python3.8/site-packages/sklearn/linear_model/_logistic.py:763: ConvergenceWarning: lbfgs failed to converge (status=1):\n",
      "STOP: TOTAL NO. of ITERATIONS REACHED LIMIT.\n",
      "\n",
      "Increase the number of iterations (max_iter) or scale the data as shown in:\n",
      "    https://scikit-learn.org/stable/modules/preprocessing.html\n",
      "Please also refer to the documentation for alternative solver options:\n",
      "    https://scikit-learn.org/stable/modules/linear_model.html#logistic-regression\n",
      "  n_iter_i = _check_optimize_result(\n"
     ]
    }
   ],
   "source": [
    "logreg = LogisticRegression().fit(X_train,y_train)"
   ]
  },
  {
   "cell_type": "code",
   "execution_count": 52,
   "id": "9b0638ea",
   "metadata": {},
   "outputs": [
    {
     "data": {
      "text/plain": [
       "0.743202416918429"
      ]
     },
     "execution_count": 52,
     "metadata": {},
     "output_type": "execute_result"
    }
   ],
   "source": [
    "logreg.score(X_train,y_train)"
   ]
  },
  {
   "cell_type": "code",
   "execution_count": 53,
   "id": "c9ab8c54",
   "metadata": {},
   "outputs": [
    {
     "data": {
      "text/plain": [
       "0.6119402985074627"
      ]
     },
     "execution_count": 53,
     "metadata": {},
     "output_type": "execute_result"
    }
   ],
   "source": [
    "logreg.score(X_test,y_test)"
   ]
  },
  {
   "cell_type": "code",
   "execution_count": 54,
   "id": "875bec67",
   "metadata": {},
   "outputs": [],
   "source": [
    "forest = RandomForestClassifier(n_estimators=10000,max_features='sqrt',\n",
    "                                max_depth=5,random_state=100,n_jobs=2).fit(X_train,y_train)"
   ]
  },
  {
   "cell_type": "code",
   "execution_count": 55,
   "id": "8980c530",
   "metadata": {},
   "outputs": [
    {
     "data": {
      "text/plain": [
       "0.8118256365990505"
      ]
     },
     "execution_count": 55,
     "metadata": {},
     "output_type": "execute_result"
    }
   ],
   "source": [
    "forest.score(X_train,y_train)"
   ]
  },
  {
   "cell_type": "code",
   "execution_count": 56,
   "id": "78ab537e",
   "metadata": {},
   "outputs": [
    {
     "data": {
      "text/plain": [
       "0.6567164179104478"
      ]
     },
     "execution_count": 56,
     "metadata": {},
     "output_type": "execute_result"
    }
   ],
   "source": [
    "forest.score(X_test,y_test)"
   ]
  },
  {
   "cell_type": "code",
   "execution_count": 57,
   "id": "33e3e19f",
   "metadata": {},
   "outputs": [],
   "source": [
    "logreg_pred = mm.bound_predictions(logreg.predict_proba(X_test)[:,1])"
   ]
  },
  {
   "cell_type": "code",
   "execution_count": 58,
   "id": "d54c8360",
   "metadata": {},
   "outputs": [],
   "source": [
    "forest_pred = mm.bound_predictions(forest.predict_proba(X_test)[:,1])"
   ]
  },
  {
   "cell_type": "code",
   "execution_count": 59,
   "id": "0b48dc1b",
   "metadata": {},
   "outputs": [
    {
     "data": {
      "text/plain": [
       "0.72954"
      ]
     },
     "execution_count": 59,
     "metadata": {},
     "output_type": "execute_result"
    }
   ],
   "source": [
    "analysis.score_model_predictions(y_test,logreg_pred)"
   ]
  },
  {
   "cell_type": "code",
   "execution_count": 60,
   "id": "03077adc",
   "metadata": {
    "scrolled": true
   },
   "outputs": [
    {
     "data": {
      "text/plain": [
       "0.6126"
      ]
     },
     "execution_count": 60,
     "metadata": {},
     "output_type": "execute_result"
    }
   ],
   "source": [
    "analysis.score_model_predictions(y_test,forest_pred)"
   ]
  }
 ],
 "metadata": {
  "kernelspec": {
   "display_name": "Python 3",
   "language": "python",
   "name": "python3"
  },
  "language_info": {
   "codemirror_mode": {
    "name": "ipython",
    "version": 3
   },
   "file_extension": ".py",
   "mimetype": "text/x-python",
   "name": "python",
   "nbconvert_exporter": "python",
   "pygments_lexer": "ipython3",
   "version": "3.8.8"
  }
 },
 "nbformat": 4,
 "nbformat_minor": 5
}
