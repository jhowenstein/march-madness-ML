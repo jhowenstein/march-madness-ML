{
 "cells": [
  {
   "cell_type": "code",
   "execution_count": 1,
   "id": "e50e2fba",
   "metadata": {},
   "outputs": [],
   "source": [
    "import numpy as np\n",
    "import pandas as pd\n",
    "\n",
    "import matplotlib.pyplot as plt\n",
    "\n",
    "import os\n",
    "import time\n",
    "\n",
    "import march_madness as mm\n",
    "import random\n",
    "\n",
    "from sklearn.model_selection import train_test_split\n",
    "from sklearn.linear_model import LogisticRegression\n",
    "from sklearn.ensemble import RandomForestClassifier\n",
    "from sklearn.preprocessing import PolynomialFeatures"
   ]
  },
  {
   "cell_type": "code",
   "execution_count": 2,
   "id": "b617a911",
   "metadata": {},
   "outputs": [],
   "source": [
    "analysis = mm.Analysis()"
   ]
  },
  {
   "cell_type": "code",
   "execution_count": 3,
   "id": "2e64c352",
   "metadata": {},
   "outputs": [],
   "source": [
    "analysis.load_training_data('MDataFiles_Stage2/calculated features 1985-2021.csv')"
   ]
  },
  {
   "cell_type": "code",
   "execution_count": 4,
   "id": "7e218304",
   "metadata": {},
   "outputs": [],
   "source": [
    "analysis.load_validation_data('MDataFiles_Stage2/calculated features 2022.csv')"
   ]
  },
  {
   "cell_type": "markdown",
   "id": "c68662ad",
   "metadata": {},
   "source": [
    "# Overview\n",
    "\n",
    "This notebook tests the actual results of the 2022 tournamend against the models I developed during the second phase of my work on this project (after official submissions were closed).\n",
    "\n",
    "The a more detailed process of how I developed these models can be found here. TODO: insert hyperlink"
   ]
  },
  {
   "cell_type": "markdown",
   "id": "caf762a0",
   "metadata": {},
   "source": [
    "# Notable Results\n",
    "\n",
    "* The Random Forest performed better using the additional game information and features. Overall these models seemed to generalize quite well. \n",
    "* The Logistic Regression models actually performed worse than their results in Phase 1.\n",
    "* The final Random Forest model using all the features scored 0.61260 which would've placed 126nd out 930 submissions."
   ]
  },
  {
   "cell_type": "markdown",
   "id": "017aa890",
   "metadata": {},
   "source": [
    "# Phase 2 - Detailed Game Result Models\n",
    "\n",
    "Phase 2 of the model training is using the 'detailed game results' for each game that gives additional box score stats beyond the final score of each game.\n",
    "\n",
    "These stats included the follwing for both teams:\n",
    "* FGM - field goals made\n",
    "* FGA - field goals attempted\n",
    "* FGM3 - three pointers made\n",
    "* FGA3 - three pointers attempted\n",
    "* FTM - free throws made\n",
    "* FTA - free throws attempted\n",
    "* OR - offensive rebounds\n",
    "* DR - defensive rebounds\n",
    "* Ast - assists\n",
    "* TO - turnovers committed\n",
    "* Stl - steals\n",
    "* Blk - blocks\n",
    "* PF - personal fouls committed"
   ]
  },
  {
   "cell_type": "markdown",
   "id": "58d1aa96",
   "metadata": {},
   "source": [
    "## Detailed Game Results"
   ]
  },
  {
   "cell_type": "code",
   "execution_count": 5,
   "id": "6ad131ba",
   "metadata": {},
   "outputs": [],
   "source": [
    "feature_keys = ['tourney seed','weighted win pct','owp','oowp','avg win margin','std win margin','avg loss margin',\n",
    "                'std loss margin','capped avg win margin','capped std win margin','capped avg loss margin',\n",
    "                'capped std loss margin','close wins','close losses','weighted top64 wins','weighted top32 wins',\n",
    "                'weighted top16 wins','weighted top8 wins','weighted top64 losses','weighted top32 losses',\n",
    "                'weighted top16 losses','weighted top8 losses','last10 win pct','last10 weighted win pct',\n",
    "                'last5 win pct','last5 weighted win pct','conference tourney wins','conference champ','Team Avg FGM',\n",
    "                'Team Avg FGA','Team Avg FGM3','Team Avg FGA3','Team Avg FTM','Team Avg FTA',\n",
    "                'Team Avg OR','Team Avg DR','Team Avg Ast','Team Avg TO%','Team Avg Stl%','Team Avg Blk%',\n",
    "                'Team Avg PF','Team Avg TR','Team Avg FGM2','Team Avg FGA2','Team Avg FG%','Team Avg FG2%',\n",
    "                'Team Avg FG3%','Team Avg FGA3%','Team Avg FT%','Team Avg Pos','Team Avg OEff','Opp Avg FGM',\n",
    "                'Opp Avg FGA','Opp Avg FGM3','Opp Avg FGA3','Opp Avg FTM','Opp Avg FTA','Opp Avg OR','Opp Avg DR',\n",
    "                'Opp Avg Ast','Opp Avg TO%','Opp Avg Stl%','Opp Avg Blk%','Opp Avg PF','Opp Avg TR','Opp Avg FGM2',\n",
    "                'Opp Avg FGA2','Opp Avg FG%','Opp Avg FG2%','Opp Avg FG3%','Opp Avg FGA3%','Opp Avg FT%',\n",
    "                'Opp Avg Pos','Opp Avg OEff']"
   ]
  },
  {
   "cell_type": "code",
   "execution_count": 6,
   "id": "41f35dc2",
   "metadata": {},
   "outputs": [],
   "source": [
    "X_train, y_train = analysis.extract_training_data(feature_keys=feature_keys)"
   ]
  },
  {
   "cell_type": "code",
   "execution_count": 7,
   "id": "9909b12d",
   "metadata": {},
   "outputs": [],
   "source": [
    "X_test, y_test = analysis.extract_validation_data(feature_keys=feature_keys)"
   ]
  },
  {
   "cell_type": "code",
   "execution_count": 12,
   "id": "fd652be8",
   "metadata": {},
   "outputs": [
    {
     "name": "stderr",
     "output_type": "stream",
     "text": [
      "/opt/anaconda3/lib/python3.8/site-packages/sklearn/linear_model/_logistic.py:763: ConvergenceWarning: lbfgs failed to converge (status=1):\n",
      "STOP: TOTAL NO. of ITERATIONS REACHED LIMIT.\n",
      "\n",
      "Increase the number of iterations (max_iter) or scale the data as shown in:\n",
      "    https://scikit-learn.org/stable/modules/preprocessing.html\n",
      "Please also refer to the documentation for alternative solver options:\n",
      "    https://scikit-learn.org/stable/modules/linear_model.html#logistic-regression\n",
      "  n_iter_i = _check_optimize_result(\n"
     ]
    }
   ],
   "source": [
    "logreg = LogisticRegression().fit(X_train,y_train)"
   ]
  },
  {
   "cell_type": "code",
   "execution_count": 13,
   "id": "a9d969c5",
   "metadata": {},
   "outputs": [
    {
     "data": {
      "text/plain": [
       "0.7367285282693138"
      ]
     },
     "execution_count": 13,
     "metadata": {},
     "output_type": "execute_result"
    }
   ],
   "source": [
    "logreg.score(X_train,y_train)"
   ]
  },
  {
   "cell_type": "code",
   "execution_count": 14,
   "id": "48429483",
   "metadata": {},
   "outputs": [
    {
     "data": {
      "text/plain": [
       "0.6119402985074627"
      ]
     },
     "execution_count": 14,
     "metadata": {},
     "output_type": "execute_result"
    }
   ],
   "source": [
    "logreg.score(X_test,y_test)"
   ]
  },
  {
   "cell_type": "code",
   "execution_count": 15,
   "id": "bd55e91d",
   "metadata": {},
   "outputs": [],
   "source": [
    "forest = RandomForestClassifier(n_estimators=10000,max_features='sqrt',\n",
    "                                max_depth=5,random_state=100,n_jobs=2).fit(X_train,y_train)"
   ]
  },
  {
   "cell_type": "code",
   "execution_count": 16,
   "id": "55ed85f6",
   "metadata": {},
   "outputs": [
    {
     "data": {
      "text/plain": [
       "0.778593008200259"
      ]
     },
     "execution_count": 16,
     "metadata": {},
     "output_type": "execute_result"
    }
   ],
   "source": [
    "forest.score(X_train,y_train)"
   ]
  },
  {
   "cell_type": "code",
   "execution_count": 17,
   "id": "4f762efa",
   "metadata": {},
   "outputs": [
    {
     "data": {
      "text/plain": [
       "0.6567164179104478"
      ]
     },
     "execution_count": 17,
     "metadata": {},
     "output_type": "execute_result"
    }
   ],
   "source": [
    "forest.score(X_test,y_test)"
   ]
  },
  {
   "cell_type": "code",
   "execution_count": 18,
   "id": "79c2eef1",
   "metadata": {},
   "outputs": [],
   "source": [
    "logreg_pred = mm.bound_predictions(logreg.predict_proba(X_test)[:,1])"
   ]
  },
  {
   "cell_type": "code",
   "execution_count": 19,
   "id": "9cba8b08",
   "metadata": {},
   "outputs": [],
   "source": [
    "forest_pred = mm.bound_predictions(forest.predict_proba(X_test)[:,1])"
   ]
  },
  {
   "cell_type": "code",
   "execution_count": 20,
   "id": "c750ab3b",
   "metadata": {},
   "outputs": [
    {
     "data": {
      "text/plain": [
       "0.718729905414014"
      ]
     },
     "execution_count": 20,
     "metadata": {},
     "output_type": "execute_result"
    }
   ],
   "source": [
    "analysis.score_model_predictions(y_test,logreg_pred)"
   ]
  },
  {
   "cell_type": "code",
   "execution_count": 21,
   "id": "e8f49d88",
   "metadata": {},
   "outputs": [
    {
     "data": {
      "text/plain": [
       "0.6078644035391965"
      ]
     },
     "execution_count": 21,
     "metadata": {},
     "output_type": "execute_result"
    }
   ],
   "source": [
    "analysis.score_model_predictions(y_test,forest_pred)"
   ]
  },
  {
   "cell_type": "markdown",
   "id": "5277ed46",
   "metadata": {},
   "source": [
    "## Detailed Game Results + Interactions"
   ]
  },
  {
   "cell_type": "markdown",
   "id": "0624a4e3",
   "metadata": {},
   "source": [
    "Additionally, the interactions between all of these features were added to the model. This appeared to help the Random Forest but actually hurt the Logistic Regression."
   ]
  },
  {
   "cell_type": "code",
   "execution_count": 22,
   "id": "b5a9d533",
   "metadata": {},
   "outputs": [],
   "source": [
    "feature_keys = ['tourney seed','weighted win pct','owp','oowp','avg win margin','std win margin','avg loss margin',\n",
    "                'std loss margin','capped avg win margin','capped std win margin','capped avg loss margin',\n",
    "                'capped std loss margin','close wins','close losses','weighted top64 wins','weighted top32 wins',\n",
    "                'weighted top16 wins','weighted top8 wins','weighted top64 losses','weighted top32 losses',\n",
    "                'weighted top16 losses','weighted top8 losses','last10 win pct','last10 weighted win pct',\n",
    "                'last5 win pct','last5 weighted win pct','conference tourney wins','conference champ','Team Avg FGM',\n",
    "                'Team Avg FGA','Team Avg FGM3','Team Avg FGA3','Team Avg FTM','Team Avg FTA',\n",
    "                'Team Avg OR','Team Avg DR','Team Avg Ast','Team Avg TO%','Team Avg Stl%','Team Avg Blk%',\n",
    "                'Team Avg PF','Team Avg TR','Team Avg FGM2','Team Avg FGA2','Team Avg FG%','Team Avg FG2%',\n",
    "                'Team Avg FG3%','Team Avg FGA3%','Team Avg FT%','Team Avg Pos','Team Avg OEff','Opp Avg FGM',\n",
    "                'Opp Avg FGA','Opp Avg FGM3','Opp Avg FGA3','Opp Avg FTM','Opp Avg FTA','Opp Avg OR','Opp Avg DR',\n",
    "                'Opp Avg Ast','Opp Avg TO%','Opp Avg Stl%','Opp Avg Blk%','Opp Avg PF','Opp Avg TR','Opp Avg FGM2',\n",
    "                'Opp Avg FGA2','Opp Avg FG%','Opp Avg FG2%','Opp Avg FG3%','Opp Avg FGA3%','Opp Avg FT%',\n",
    "                'Opp Avg Pos','Opp Avg OEff']"
   ]
  },
  {
   "cell_type": "code",
   "execution_count": 23,
   "id": "56525d1f",
   "metadata": {},
   "outputs": [],
   "source": [
    "X_train, y_train = analysis.extract_training_data(feature_keys=feature_keys)"
   ]
  },
  {
   "cell_type": "code",
   "execution_count": 24,
   "id": "cf04d1d1",
   "metadata": {},
   "outputs": [],
   "source": [
    "X_test, y_test = analysis.extract_validation_data(feature_keys=feature_keys)"
   ]
  },
  {
   "cell_type": "code",
   "execution_count": 25,
   "id": "72b41daf",
   "metadata": {},
   "outputs": [],
   "source": [
    "poly = PolynomialFeatures(2)"
   ]
  },
  {
   "cell_type": "code",
   "execution_count": 26,
   "id": "11a9eaa6",
   "metadata": {},
   "outputs": [],
   "source": [
    "X_train = poly.fit_transform(X_train)\n",
    "X_test = poly.fit_transform(X_test)"
   ]
  },
  {
   "cell_type": "code",
   "execution_count": 31,
   "id": "674b1c46",
   "metadata": {},
   "outputs": [
    {
     "name": "stderr",
     "output_type": "stream",
     "text": [
      "/opt/anaconda3/lib/python3.8/site-packages/sklearn/linear_model/_logistic.py:763: ConvergenceWarning: lbfgs failed to converge (status=1):\n",
      "STOP: TOTAL NO. of ITERATIONS REACHED LIMIT.\n",
      "\n",
      "Increase the number of iterations (max_iter) or scale the data as shown in:\n",
      "    https://scikit-learn.org/stable/modules/preprocessing.html\n",
      "Please also refer to the documentation for alternative solver options:\n",
      "    https://scikit-learn.org/stable/modules/linear_model.html#logistic-regression\n",
      "  n_iter_i = _check_optimize_result(\n"
     ]
    }
   ],
   "source": [
    "logreg = LogisticRegression().fit(X_train,y_train)"
   ]
  },
  {
   "cell_type": "code",
   "execution_count": 32,
   "id": "b734aef7",
   "metadata": {},
   "outputs": [
    {
     "data": {
      "text/plain": [
       "0.7388864911523522"
      ]
     },
     "execution_count": 32,
     "metadata": {},
     "output_type": "execute_result"
    }
   ],
   "source": [
    "logreg.score(X_train,y_train)"
   ]
  },
  {
   "cell_type": "code",
   "execution_count": 33,
   "id": "1474b801",
   "metadata": {},
   "outputs": [
    {
     "data": {
      "text/plain": [
       "0.5970149253731343"
      ]
     },
     "execution_count": 33,
     "metadata": {},
     "output_type": "execute_result"
    }
   ],
   "source": [
    "logreg.score(X_test,y_test)"
   ]
  },
  {
   "cell_type": "code",
   "execution_count": 34,
   "id": "dd1c8ddf",
   "metadata": {},
   "outputs": [],
   "source": [
    "forest = RandomForestClassifier(n_estimators=10000,max_features='sqrt',\n",
    "                                max_depth=5,random_state=100,n_jobs=2).fit(X_train,y_train)"
   ]
  },
  {
   "cell_type": "code",
   "execution_count": 35,
   "id": "d85f88a6",
   "metadata": {},
   "outputs": [
    {
     "data": {
      "text/plain": [
       "0.7980146741476046"
      ]
     },
     "execution_count": 35,
     "metadata": {},
     "output_type": "execute_result"
    }
   ],
   "source": [
    "forest.score(X_train,y_train)"
   ]
  },
  {
   "cell_type": "code",
   "execution_count": 36,
   "id": "a309eb2b",
   "metadata": {},
   "outputs": [
    {
     "data": {
      "text/plain": [
       "0.6716417910447762"
      ]
     },
     "execution_count": 36,
     "metadata": {},
     "output_type": "execute_result"
    }
   ],
   "source": [
    "forest.score(X_test,y_test)"
   ]
  },
  {
   "cell_type": "code",
   "execution_count": 37,
   "id": "d1b34acc",
   "metadata": {},
   "outputs": [],
   "source": [
    "logreg_pred = mm.bound_predictions(logreg.predict_proba(X_test)[:,1])"
   ]
  },
  {
   "cell_type": "code",
   "execution_count": 38,
   "id": "3e096099",
   "metadata": {},
   "outputs": [],
   "source": [
    "forest_pred = mm.bound_predictions(forest.predict_proba(X_test)[:,1])"
   ]
  },
  {
   "cell_type": "code",
   "execution_count": 39,
   "id": "53bce12e",
   "metadata": {},
   "outputs": [
    {
     "data": {
      "text/plain": [
       "0.7901949394505107"
      ]
     },
     "execution_count": 39,
     "metadata": {},
     "output_type": "execute_result"
    }
   ],
   "source": [
    "analysis.score_model_predictions(y_test,logreg_pred)"
   ]
  },
  {
   "cell_type": "code",
   "execution_count": 40,
   "id": "ef236a4e",
   "metadata": {},
   "outputs": [
    {
     "data": {
      "text/plain": [
       "0.6159448696704682"
      ]
     },
     "execution_count": 40,
     "metadata": {},
     "output_type": "execute_result"
    }
   ],
   "source": [
    "analysis.score_model_predictions(y_test,forest_pred)"
   ]
  },
  {
   "cell_type": "markdown",
   "id": "71e0a10e",
   "metadata": {},
   "source": [
    "## Net Detailed Game Results"
   ]
  },
  {
   "cell_type": "markdown",
   "id": "901086b3",
   "metadata": {},
   "source": [
    "The last features I engineer were the 'net' statistics for all these parameters. These parameters can be interpreted as \"how the team did compared to what the opponent generally allowed\". For example if an opponent allows an average of 5 three-pointers per game and the team scored 10, that would be a net of 5 for that parameter in that game. \n",
    "\n",
    "So on offense these metrics capture, how well did the team do compared to what their opponents allow on average.\n",
    "\n",
    "And on defense they capture, how well did you limit your opponent compared to how much they normally produce.\n",
    "\n",
    "'Net' parameters were calculated for all stats derived from the 'detailed' information and were the average difference for all of the team's games."
   ]
  },
  {
   "cell_type": "code",
   "execution_count": 41,
   "id": "2fd47c8c",
   "metadata": {},
   "outputs": [],
   "source": [
    "feature_keys = ['tourney seed','weighted win pct','owp','oowp','avg win margin','std win margin','avg loss margin',\n",
    "                'std loss margin','capped avg win margin','capped std win margin','capped avg loss margin',\n",
    "                'capped std loss margin','close wins','close losses','weighted top64 wins','weighted top32 wins',\n",
    "                'weighted top16 wins','weighted top8 wins','weighted top64 losses','weighted top32 losses',\n",
    "                'weighted top16 losses','weighted top8 losses','last10 win pct','last10 weighted win pct',\n",
    "                'last5 win pct','last5 weighted win pct','conference tourney wins','conference champ','Team Avg FGM',\n",
    "                'Team Avg FGA','Team Avg FGM3','Team Avg FGA3','Team Avg FTM','Team Avg FTA',\n",
    "                'Team Avg OR','Team Avg DR','Team Avg Ast','Team Avg TO%','Team Avg Stl%','Team Avg Blk%',\n",
    "                'Team Avg PF','Team Avg TR','Team Avg FGM2','Team Avg FGA2','Team Avg FG%','Team Avg FG2%',\n",
    "                'Team Avg FG3%','Team Avg FGA3%','Team Avg FT%','Team Avg Pos','Team Avg OEff','Opp Avg FGM',\n",
    "                'Opp Avg FGA','Opp Avg FGM3','Opp Avg FGA3','Opp Avg FTM','Opp Avg FTA','Opp Avg OR','Opp Avg DR',\n",
    "                'Opp Avg Ast','Opp Avg TO%','Opp Avg Stl%','Opp Avg Blk%','Opp Avg PF','Opp Avg TR','Opp Avg FGM2',\n",
    "                'Opp Avg FGA2','Opp Avg FG%','Opp Avg FG2%','Opp Avg FG3%','Opp Avg FGA3%','Opp Avg FT%',\n",
    "                'Opp Avg Pos','Opp Avg OEff','Net Team Avg FGM','Net Team Avg FGA','Net Team Avg FGM3',\n",
    "                'Net Team Avg FGA3','Net Team Avg FTM','Net Team Avg FTA','Net Team Avg OR','Net Team Avg DR',\n",
    "                'Net Team Avg Ast','Net Team Avg TO%','Net Team Avg Stl%','Net Team Avg Blk%','Net Team Avg PF',\n",
    "                'Net Team Avg TR','Net Team Avg FGM2','Net Team Avg FGA2','Net Team Avg FG%','Net Team Avg FG2%',\n",
    "                'Net Team Avg FG3%','Net Team Avg FGA3%','Net Team Avg FT%','Net Team Avg Pos','Net Team Avg OEff',\n",
    "                'Net Opp Avg FGM','Net Opp Avg FGA','Net Opp Avg FGM3','Net Opp Avg FGA3','Net Opp Avg FTM',\n",
    "                'Net Opp Avg FTA','Net Opp Avg OR','Net Opp Avg DR','Net Opp Avg Ast','Net Opp Avg TO%',\n",
    "                'Net Opp Avg Stl%','Net Opp Avg Blk%','Net Opp Avg PF','Net Opp Avg TR','Net Opp Avg FGM2',\n",
    "                'Net Opp Avg FGA2','Net Opp Avg FG%','Net Opp Avg FG2%','Net Opp Avg FG3%','Net Opp Avg FGA3%',\n",
    "                'Net Opp Avg FT%','Net Opp Avg Pos','Net Opp Avg OEff']"
   ]
  },
  {
   "cell_type": "code",
   "execution_count": 42,
   "id": "913f9996",
   "metadata": {},
   "outputs": [],
   "source": [
    "X_train, y_train = analysis.extract_training_data(feature_keys=feature_keys)"
   ]
  },
  {
   "cell_type": "code",
   "execution_count": 43,
   "id": "423ee168",
   "metadata": {},
   "outputs": [],
   "source": [
    "X_test, y_test = analysis.extract_validation_data(feature_keys=feature_keys)"
   ]
  },
  {
   "cell_type": "code",
   "execution_count": 48,
   "id": "13ffb7ff",
   "metadata": {},
   "outputs": [
    {
     "name": "stderr",
     "output_type": "stream",
     "text": [
      "/opt/anaconda3/lib/python3.8/site-packages/sklearn/linear_model/_logistic.py:763: ConvergenceWarning: lbfgs failed to converge (status=1):\n",
      "STOP: TOTAL NO. of ITERATIONS REACHED LIMIT.\n",
      "\n",
      "Increase the number of iterations (max_iter) or scale the data as shown in:\n",
      "    https://scikit-learn.org/stable/modules/preprocessing.html\n",
      "Please also refer to the documentation for alternative solver options:\n",
      "    https://scikit-learn.org/stable/modules/linear_model.html#logistic-regression\n",
      "  n_iter_i = _check_optimize_result(\n"
     ]
    }
   ],
   "source": [
    "logreg = LogisticRegression().fit(X_train,y_train)"
   ]
  },
  {
   "cell_type": "code",
   "execution_count": 49,
   "id": "d72bf9b5",
   "metadata": {},
   "outputs": [
    {
     "data": {
      "text/plain": [
       "0.7427708243418213"
      ]
     },
     "execution_count": 49,
     "metadata": {},
     "output_type": "execute_result"
    }
   ],
   "source": [
    "logreg.score(X_train,y_train)"
   ]
  },
  {
   "cell_type": "code",
   "execution_count": 50,
   "id": "7778e5d0",
   "metadata": {},
   "outputs": [
    {
     "data": {
      "text/plain": [
       "0.5970149253731343"
      ]
     },
     "execution_count": 50,
     "metadata": {},
     "output_type": "execute_result"
    }
   ],
   "source": [
    "logreg.score(X_test,y_test)"
   ]
  },
  {
   "cell_type": "code",
   "execution_count": 51,
   "id": "959a4b4e",
   "metadata": {},
   "outputs": [],
   "source": [
    "forest = RandomForestClassifier(n_estimators=10000,max_features='sqrt',\n",
    "                                max_depth=5,random_state=100,n_jobs=2).fit(X_train,y_train)"
   ]
  },
  {
   "cell_type": "code",
   "execution_count": 52,
   "id": "7b583195",
   "metadata": {},
   "outputs": [
    {
     "data": {
      "text/plain": [
       "0.7820457488131204"
      ]
     },
     "execution_count": 52,
     "metadata": {},
     "output_type": "execute_result"
    }
   ],
   "source": [
    "forest.score(X_train,y_train)"
   ]
  },
  {
   "cell_type": "code",
   "execution_count": 53,
   "id": "d3d5a811",
   "metadata": {},
   "outputs": [
    {
     "data": {
      "text/plain": [
       "0.6567164179104478"
      ]
     },
     "execution_count": 53,
     "metadata": {},
     "output_type": "execute_result"
    }
   ],
   "source": [
    "forest.score(X_test,y_test)"
   ]
  },
  {
   "cell_type": "code",
   "execution_count": 54,
   "id": "3ff09267",
   "metadata": {},
   "outputs": [],
   "source": [
    "logreg_pred = mm.bound_predictions(logreg.predict_proba(X_test)[:,1])"
   ]
  },
  {
   "cell_type": "code",
   "execution_count": 55,
   "id": "12d1df02",
   "metadata": {},
   "outputs": [],
   "source": [
    "forest_pred = mm.bound_predictions(forest.predict_proba(X_test)[:,1])"
   ]
  },
  {
   "cell_type": "code",
   "execution_count": 56,
   "id": "1bce29c7",
   "metadata": {},
   "outputs": [
    {
     "data": {
      "text/plain": [
       "0.7167180750918998"
      ]
     },
     "execution_count": 56,
     "metadata": {},
     "output_type": "execute_result"
    }
   ],
   "source": [
    "analysis.score_model_predictions(y_test,logreg_pred)"
   ]
  },
  {
   "cell_type": "code",
   "execution_count": 57,
   "id": "244eefd0",
   "metadata": {},
   "outputs": [
    {
     "data": {
      "text/plain": [
       "0.6062899829821622"
      ]
     },
     "execution_count": 57,
     "metadata": {},
     "output_type": "execute_result"
    }
   ],
   "source": [
    "analysis.score_model_predictions(y_test,forest_pred)"
   ]
  },
  {
   "cell_type": "markdown",
   "id": "c33c670a",
   "metadata": {},
   "source": [
    "## Net Detailed Game Results + Interactions"
   ]
  },
  {
   "cell_type": "markdown",
   "id": "05ac8bbf",
   "metadata": {},
   "source": [
    "Again, the interactions between all of these features were added to the model. This again, helped the Random Forest and hurt the Logistic Regression."
   ]
  },
  {
   "cell_type": "code",
   "execution_count": 58,
   "id": "c10a1d78",
   "metadata": {},
   "outputs": [],
   "source": [
    "feature_keys = ['tourney seed','weighted win pct','owp','oowp','avg win margin','std win margin','avg loss margin',\n",
    "                'std loss margin','capped avg win margin','capped std win margin','capped avg loss margin',\n",
    "                'capped std loss margin','close wins','close losses','weighted top64 wins','weighted top32 wins',\n",
    "                'weighted top16 wins','weighted top8 wins','weighted top64 losses','weighted top32 losses',\n",
    "                'weighted top16 losses','weighted top8 losses','last10 win pct','last10 weighted win pct',\n",
    "                'last5 win pct','last5 weighted win pct','conference tourney wins','conference champ','Team Avg FGM',\n",
    "                'Team Avg FGA','Team Avg FGM3','Team Avg FGA3','Team Avg FTM','Team Avg FTA',\n",
    "                'Team Avg OR','Team Avg DR','Team Avg Ast','Team Avg TO%','Team Avg Stl%','Team Avg Blk%',\n",
    "                'Team Avg PF','Team Avg TR','Team Avg FGM2','Team Avg FGA2','Team Avg FG%','Team Avg FG2%',\n",
    "                'Team Avg FG3%','Team Avg FGA3%','Team Avg FT%','Team Avg Pos','Team Avg OEff','Opp Avg FGM',\n",
    "                'Opp Avg FGA','Opp Avg FGM3','Opp Avg FGA3','Opp Avg FTM','Opp Avg FTA','Opp Avg OR','Opp Avg DR',\n",
    "                'Opp Avg Ast','Opp Avg TO%','Opp Avg Stl%','Opp Avg Blk%','Opp Avg PF','Opp Avg TR','Opp Avg FGM2',\n",
    "                'Opp Avg FGA2','Opp Avg FG%','Opp Avg FG2%','Opp Avg FG3%','Opp Avg FGA3%','Opp Avg FT%',\n",
    "                'Opp Avg Pos','Opp Avg OEff','Net Team Avg FGM','Net Team Avg FGA','Net Team Avg FGM3',\n",
    "                'Net Team Avg FGA3','Net Team Avg FTM','Net Team Avg FTA','Net Team Avg OR','Net Team Avg DR',\n",
    "                'Net Team Avg Ast','Net Team Avg TO%','Net Team Avg Stl%','Net Team Avg Blk%','Net Team Avg PF',\n",
    "                'Net Team Avg TR','Net Team Avg FGM2','Net Team Avg FGA2','Net Team Avg FG%','Net Team Avg FG2%',\n",
    "                'Net Team Avg FG3%','Net Team Avg FGA3%','Net Team Avg FT%','Net Team Avg Pos','Net Team Avg OEff',\n",
    "                'Net Opp Avg FGM','Net Opp Avg FGA','Net Opp Avg FGM3','Net Opp Avg FGA3','Net Opp Avg FTM',\n",
    "                'Net Opp Avg FTA','Net Opp Avg OR','Net Opp Avg DR','Net Opp Avg Ast','Net Opp Avg TO%',\n",
    "                'Net Opp Avg Stl%','Net Opp Avg Blk%','Net Opp Avg PF','Net Opp Avg TR','Net Opp Avg FGM2',\n",
    "                'Net Opp Avg FGA2','Net Opp Avg FG%','Net Opp Avg FG2%','Net Opp Avg FG3%','Net Opp Avg FGA3%',\n",
    "                'Net Opp Avg FT%','Net Opp Avg Pos','Net Opp Avg OEff']"
   ]
  },
  {
   "cell_type": "code",
   "execution_count": 59,
   "id": "dca9f293",
   "metadata": {},
   "outputs": [],
   "source": [
    "X_train, y_train = analysis.extract_training_data(feature_keys=feature_keys)"
   ]
  },
  {
   "cell_type": "code",
   "execution_count": 60,
   "id": "edf6a45a",
   "metadata": {},
   "outputs": [],
   "source": [
    "X_test, y_test = analysis.extract_validation_data(feature_keys=feature_keys)"
   ]
  },
  {
   "cell_type": "code",
   "execution_count": 61,
   "id": "19f36370",
   "metadata": {},
   "outputs": [],
   "source": [
    "poly = PolynomialFeatures(2)"
   ]
  },
  {
   "cell_type": "code",
   "execution_count": 62,
   "id": "10ec26d0",
   "metadata": {},
   "outputs": [],
   "source": [
    "X_train = poly.fit_transform(X_train)\n",
    "X_test = poly.fit_transform(X_test)"
   ]
  },
  {
   "cell_type": "code",
   "execution_count": 67,
   "id": "46fe02ae",
   "metadata": {},
   "outputs": [
    {
     "name": "stderr",
     "output_type": "stream",
     "text": [
      "/opt/anaconda3/lib/python3.8/site-packages/sklearn/linear_model/_logistic.py:763: ConvergenceWarning: lbfgs failed to converge (status=1):\n",
      "STOP: TOTAL NO. of ITERATIONS REACHED LIMIT.\n",
      "\n",
      "Increase the number of iterations (max_iter) or scale the data as shown in:\n",
      "    https://scikit-learn.org/stable/modules/preprocessing.html\n",
      "Please also refer to the documentation for alternative solver options:\n",
      "    https://scikit-learn.org/stable/modules/linear_model.html#logistic-regression\n",
      "  n_iter_i = _check_optimize_result(\n"
     ]
    }
   ],
   "source": [
    "logreg = LogisticRegression().fit(X_train,y_train)"
   ]
  },
  {
   "cell_type": "code",
   "execution_count": 68,
   "id": "ad8b6d1d",
   "metadata": {},
   "outputs": [
    {
     "data": {
      "text/plain": [
       "0.743202416918429"
      ]
     },
     "execution_count": 68,
     "metadata": {},
     "output_type": "execute_result"
    }
   ],
   "source": [
    "logreg.score(X_train,y_train)"
   ]
  },
  {
   "cell_type": "code",
   "execution_count": 69,
   "id": "e209aefe",
   "metadata": {},
   "outputs": [
    {
     "data": {
      "text/plain": [
       "0.6119402985074627"
      ]
     },
     "execution_count": 69,
     "metadata": {},
     "output_type": "execute_result"
    }
   ],
   "source": [
    "logreg.score(X_test,y_test)"
   ]
  },
  {
   "cell_type": "code",
   "execution_count": 70,
   "id": "bd99f77d",
   "metadata": {},
   "outputs": [],
   "source": [
    "forest = RandomForestClassifier(n_estimators=10000,max_features='sqrt',\n",
    "                                max_depth=5,random_state=100,n_jobs=2).fit(X_train,y_train)"
   ]
  },
  {
   "cell_type": "code",
   "execution_count": 71,
   "id": "312fc0cd",
   "metadata": {},
   "outputs": [
    {
     "data": {
      "text/plain": [
       "0.8118256365990505"
      ]
     },
     "execution_count": 71,
     "metadata": {},
     "output_type": "execute_result"
    }
   ],
   "source": [
    "forest.score(X_train,y_train)"
   ]
  },
  {
   "cell_type": "code",
   "execution_count": 72,
   "id": "92cb129e",
   "metadata": {},
   "outputs": [
    {
     "data": {
      "text/plain": [
       "0.6567164179104478"
      ]
     },
     "execution_count": 72,
     "metadata": {},
     "output_type": "execute_result"
    }
   ],
   "source": [
    "forest.score(X_test,y_test)"
   ]
  },
  {
   "cell_type": "code",
   "execution_count": 73,
   "id": "406da888",
   "metadata": {},
   "outputs": [],
   "source": [
    "logreg_pred = mm.bound_predictions(logreg.predict_proba(X_test)[:,1])"
   ]
  },
  {
   "cell_type": "code",
   "execution_count": 74,
   "id": "840e1229",
   "metadata": {},
   "outputs": [],
   "source": [
    "forest_pred = mm.bound_predictions(forest.predict_proba(X_test)[:,1])"
   ]
  },
  {
   "cell_type": "code",
   "execution_count": 75,
   "id": "ca74415f",
   "metadata": {},
   "outputs": [
    {
     "data": {
      "text/plain": [
       "0.7295417529811066"
      ]
     },
     "execution_count": 75,
     "metadata": {},
     "output_type": "execute_result"
    }
   ],
   "source": [
    "analysis.score_model_predictions(y_test,logreg_pred)"
   ]
  },
  {
   "cell_type": "code",
   "execution_count": 76,
   "id": "ff8f1ec9",
   "metadata": {
    "scrolled": true
   },
   "outputs": [
    {
     "data": {
      "text/plain": [
       "0.6125969406878569"
      ]
     },
     "execution_count": 76,
     "metadata": {},
     "output_type": "execute_result"
    }
   ],
   "source": [
    "analysis.score_model_predictions(y_test,forest_pred)"
   ]
  }
 ],
 "metadata": {
  "kernelspec": {
   "display_name": "Python 3",
   "language": "python",
   "name": "python3"
  },
  "language_info": {
   "codemirror_mode": {
    "name": "ipython",
    "version": 3
   },
   "file_extension": ".py",
   "mimetype": "text/x-python",
   "name": "python",
   "nbconvert_exporter": "python",
   "pygments_lexer": "ipython3",
   "version": "3.8.8"
  }
 },
 "nbformat": 4,
 "nbformat_minor": 5
}
