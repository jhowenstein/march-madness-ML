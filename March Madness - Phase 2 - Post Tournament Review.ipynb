{
 "cells": [
  {
   "cell_type": "code",
   "execution_count": 1,
   "id": "e50e2fba",
   "metadata": {},
   "outputs": [],
   "source": [
    "import numpy as np\n",
    "import pandas as pd\n",
    "\n",
    "import matplotlib.pyplot as plt\n",
    "\n",
    "import os\n",
    "import time\n",
    "\n",
    "import march_madness as mm\n",
    "import random\n",
    "\n",
    "from sklearn.model_selection import train_test_split\n",
    "from sklearn.linear_model import LogisticRegression\n",
    "from sklearn.ensemble import RandomForestClassifier\n",
    "from sklearn.preprocessing import PolynomialFeatures"
   ]
  },
  {
   "cell_type": "code",
   "execution_count": 2,
   "id": "b617a911",
   "metadata": {},
   "outputs": [],
   "source": [
    "analysis = mm.Analysis()"
   ]
  },
  {
   "cell_type": "code",
   "execution_count": 3,
   "id": "0b06868c",
   "metadata": {},
   "outputs": [],
   "source": [
    "analysis.load_training_data('MDataFiles_Stage2/calculated features 1985-2021.csv')"
   ]
  },
  {
   "cell_type": "code",
   "execution_count": 4,
   "id": "aa6b5e72",
   "metadata": {},
   "outputs": [],
   "source": [
    "analysis.load_validation_data('MDataFiles_Stage2/calculated features 2022.csv')"
   ]
  },
  {
   "cell_type": "markdown",
   "id": "ec738513",
   "metadata": {},
   "source": [
    "# Phase 2 - Detailed Game Results\n",
    "\n",
    "Phase 2 of the model training is using the 'detailed game results' for each game that gives additional box score stats beyond the final score of each game.\n",
    "\n",
    "These stats included the follwing for both teams:\n",
    "* FGM - field goals made\n",
    "* FGA - field goals attempted\n",
    "* FGM3 - three pointers made\n",
    "* FGA3 - three pointers attempted\n",
    "* FTM - free throws made\n",
    "* FTA - free throws attempted\n",
    "* OR - offensive rebounds\n",
    "* DR - defensive rebounds\n",
    "* Ast - assists\n",
    "* TO - turnovers committed\n",
    "* Stl - steals\n",
    "* Blk - blocks\n",
    "* PF - personal fouls committed"
   ]
  },
  {
   "cell_type": "markdown",
   "id": "8a8b469c",
   "metadata": {},
   "source": [
    "## Detailed Game Results"
   ]
  },
  {
   "cell_type": "markdown",
   "id": "8904243f",
   "metadata": {},
   "source": [
    "These statistics were then used to generate additional statistics such as offensive and defensive efficiency, various rates (ex. steals per possesion), and relavent ratios (ex. ratio of 3pt attempts to all field attempts). The game averages of these statistics for each team and their opponents were calculated and added to the model."
   ]
  },
  {
   "cell_type": "code",
   "execution_count": 5,
   "id": "99d9e732",
   "metadata": {},
   "outputs": [],
   "source": [
    "feature_keys = ['tourney seed','weighted win pct','owp','oowp','avg win margin','std win margin','avg loss margin',\n",
    "                'std loss margin','capped avg win margin','capped std win margin','capped avg loss margin',\n",
    "                'capped std loss margin','close wins','close losses','weighted top64 wins','weighted top32 wins',\n",
    "                'weighted top16 wins','weighted top8 wins','weighted top64 losses','weighted top32 losses',\n",
    "                'weighted top16 losses','weighted top8 losses','last10 win pct','last10 weighted win pct',\n",
    "                'last5 win pct','last5 weighted win pct','conference tourney wins','conference champ','Team Avg FGM',\n",
    "                'Team Avg FGA','Team Avg FGM3','Team Avg FGA3','Team Avg FTM','Team Avg FTA',\n",
    "                'Team Avg OR','Team Avg DR','Team Avg Ast','Team Avg TO%','Team Avg Stl%','Team Avg Blk%',\n",
    "                'Team Avg PF','Team Avg TR','Team Avg FGM2','Team Avg FGA2','Team Avg FG%','Team Avg FG2%',\n",
    "                'Team Avg FG3%','Team Avg FGA3%','Team Avg FT%','Team Avg Pos','Team Avg OEff','Opp Avg FGM',\n",
    "                'Opp Avg FGA','Opp Avg FGM3','Opp Avg FGA3','Opp Avg FTM','Opp Avg FTA','Opp Avg OR','Opp Avg DR',\n",
    "                'Opp Avg Ast','Opp Avg TO%','Opp Avg Stl%','Opp Avg Blk%','Opp Avg PF','Opp Avg TR','Opp Avg FGM2',\n",
    "                'Opp Avg FGA2','Opp Avg FG%','Opp Avg FG2%','Opp Avg FG3%','Opp Avg FGA3%','Opp Avg FT%',\n",
    "                'Opp Avg Pos','Opp Avg OEff']"
   ]
  },
  {
   "cell_type": "code",
   "execution_count": 6,
   "id": "577336ce",
   "metadata": {},
   "outputs": [],
   "source": [
    "X_train, y_train = analysis.extract_training_data(feature_keys=feature_keys)"
   ]
  },
  {
   "cell_type": "code",
   "execution_count": 7,
   "id": "96600bff",
   "metadata": {},
   "outputs": [],
   "source": [
    "X_test, y_test = analysis.extract_validation_data(feature_keys=feature_keys)"
   ]
  },
  {
   "cell_type": "code",
   "execution_count": 8,
   "id": "28cddae6",
   "metadata": {},
   "outputs": [
    {
     "data": {
      "text/plain": [
       "(2317, 148)"
      ]
     },
     "execution_count": 8,
     "metadata": {},
     "output_type": "execute_result"
    }
   ],
   "source": [
    "X_train.shape"
   ]
  },
  {
   "cell_type": "code",
   "execution_count": 9,
   "id": "c3d2a9bd",
   "metadata": {},
   "outputs": [
    {
     "data": {
      "text/plain": [
       "(2317,)"
      ]
     },
     "execution_count": 9,
     "metadata": {},
     "output_type": "execute_result"
    }
   ],
   "source": [
    "y_train.shape"
   ]
  },
  {
   "cell_type": "code",
   "execution_count": 10,
   "id": "ee48f059",
   "metadata": {},
   "outputs": [
    {
     "data": {
      "text/plain": [
       "(67, 148)"
      ]
     },
     "execution_count": 10,
     "metadata": {},
     "output_type": "execute_result"
    }
   ],
   "source": [
    "X_test.shape"
   ]
  },
  {
   "cell_type": "code",
   "execution_count": 11,
   "id": "4969a4eb",
   "metadata": {},
   "outputs": [
    {
     "data": {
      "text/plain": [
       "(67,)"
      ]
     },
     "execution_count": 11,
     "metadata": {},
     "output_type": "execute_result"
    }
   ],
   "source": [
    "y_test.shape"
   ]
  },
  {
   "cell_type": "code",
   "execution_count": 12,
   "id": "2524ac08",
   "metadata": {},
   "outputs": [
    {
     "name": "stderr",
     "output_type": "stream",
     "text": [
      "/opt/anaconda3/lib/python3.8/site-packages/sklearn/linear_model/_logistic.py:763: ConvergenceWarning: lbfgs failed to converge (status=1):\n",
      "STOP: TOTAL NO. of ITERATIONS REACHED LIMIT.\n",
      "\n",
      "Increase the number of iterations (max_iter) or scale the data as shown in:\n",
      "    https://scikit-learn.org/stable/modules/preprocessing.html\n",
      "Please also refer to the documentation for alternative solver options:\n",
      "    https://scikit-learn.org/stable/modules/linear_model.html#logistic-regression\n",
      "  n_iter_i = _check_optimize_result(\n"
     ]
    }
   ],
   "source": [
    "logreg = LogisticRegression().fit(X_train,y_train)"
   ]
  },
  {
   "cell_type": "code",
   "execution_count": 13,
   "id": "1ab096a9",
   "metadata": {},
   "outputs": [
    {
     "data": {
      "text/plain": [
       "0.7367285282693138"
      ]
     },
     "execution_count": 13,
     "metadata": {},
     "output_type": "execute_result"
    }
   ],
   "source": [
    "logreg.score(X_train,y_train)"
   ]
  },
  {
   "cell_type": "code",
   "execution_count": 14,
   "id": "2ba33d02",
   "metadata": {},
   "outputs": [
    {
     "data": {
      "text/plain": [
       "0.6119402985074627"
      ]
     },
     "execution_count": 14,
     "metadata": {},
     "output_type": "execute_result"
    }
   ],
   "source": [
    "logreg.score(X_test,y_test)"
   ]
  },
  {
   "cell_type": "code",
   "execution_count": 15,
   "id": "b22c9be1",
   "metadata": {},
   "outputs": [],
   "source": [
    "forest = RandomForestClassifier(n_estimators=10000,max_features='sqrt',\n",
    "                                max_depth=5,random_state=100,n_jobs=2).fit(X_train,y_train)"
   ]
  },
  {
   "cell_type": "code",
   "execution_count": 16,
   "id": "32e0323f",
   "metadata": {},
   "outputs": [
    {
     "data": {
      "text/plain": [
       "0.778593008200259"
      ]
     },
     "execution_count": 16,
     "metadata": {},
     "output_type": "execute_result"
    }
   ],
   "source": [
    "forest.score(X_train,y_train)"
   ]
  },
  {
   "cell_type": "code",
   "execution_count": 17,
   "id": "d60ffe98",
   "metadata": {},
   "outputs": [
    {
     "data": {
      "text/plain": [
       "0.6567164179104478"
      ]
     },
     "execution_count": 17,
     "metadata": {},
     "output_type": "execute_result"
    }
   ],
   "source": [
    "forest.score(X_test,y_test)"
   ]
  },
  {
   "cell_type": "code",
   "execution_count": 18,
   "id": "d750183f",
   "metadata": {},
   "outputs": [],
   "source": [
    "logreg_pred = mm.bound_predictions(logreg.predict_proba(X_test)[:,1])"
   ]
  },
  {
   "cell_type": "code",
   "execution_count": 19,
   "id": "17f681b7",
   "metadata": {},
   "outputs": [],
   "source": [
    "forest_pred = mm.bound_predictions(forest.predict_proba(X_test)[:,1])"
   ]
  },
  {
   "cell_type": "code",
   "execution_count": 20,
   "id": "d5cc61be",
   "metadata": {},
   "outputs": [
    {
     "data": {
      "text/plain": [
       "0.718729905414014"
      ]
     },
     "execution_count": 20,
     "metadata": {},
     "output_type": "execute_result"
    }
   ],
   "source": [
    "analysis.score_model_predictions(y_test,logreg_pred)"
   ]
  },
  {
   "cell_type": "code",
   "execution_count": 21,
   "id": "e59d62ea",
   "metadata": {},
   "outputs": [
    {
     "data": {
      "text/plain": [
       "0.6078644035391965"
      ]
     },
     "execution_count": 21,
     "metadata": {},
     "output_type": "execute_result"
    }
   ],
   "source": [
    "analysis.score_model_predictions(y_test,forest_pred)"
   ]
  },
  {
   "cell_type": "markdown",
   "id": "5277ed46",
   "metadata": {},
   "source": [
    "## Detailed Game Results + Interactions"
   ]
  },
  {
   "cell_type": "markdown",
   "id": "af326c18",
   "metadata": {},
   "source": [
    "Additionally, the interactions between all of these features were added to the model. This appeared to help the Random Forest but actually hurt the Logistic Regression."
   ]
  },
  {
   "cell_type": "code",
   "execution_count": 22,
   "id": "b5a9d533",
   "metadata": {},
   "outputs": [],
   "source": [
    "feature_keys = ['tourney seed','weighted win pct','owp','oowp','avg win margin','std win margin','avg loss margin',\n",
    "                'std loss margin','capped avg win margin','capped std win margin','capped avg loss margin',\n",
    "                'capped std loss margin','close wins','close losses','weighted top64 wins','weighted top32 wins',\n",
    "                'weighted top16 wins','weighted top8 wins','weighted top64 losses','weighted top32 losses',\n",
    "                'weighted top16 losses','weighted top8 losses','last10 win pct','last10 weighted win pct',\n",
    "                'last5 win pct','last5 weighted win pct','conference tourney wins','conference champ','Team Avg FGM',\n",
    "                'Team Avg FGA','Team Avg FGM3','Team Avg FGA3','Team Avg FTM','Team Avg FTA',\n",
    "                'Team Avg OR','Team Avg DR','Team Avg Ast','Team Avg TO%','Team Avg Stl%','Team Avg Blk%',\n",
    "                'Team Avg PF','Team Avg TR','Team Avg FGM2','Team Avg FGA2','Team Avg FG%','Team Avg FG2%',\n",
    "                'Team Avg FG3%','Team Avg FGA3%','Team Avg FT%','Team Avg Pos','Team Avg OEff','Opp Avg FGM',\n",
    "                'Opp Avg FGA','Opp Avg FGM3','Opp Avg FGA3','Opp Avg FTM','Opp Avg FTA','Opp Avg OR','Opp Avg DR',\n",
    "                'Opp Avg Ast','Opp Avg TO%','Opp Avg Stl%','Opp Avg Blk%','Opp Avg PF','Opp Avg TR','Opp Avg FGM2',\n",
    "                'Opp Avg FGA2','Opp Avg FG%','Opp Avg FG2%','Opp Avg FG3%','Opp Avg FGA3%','Opp Avg FT%',\n",
    "                'Opp Avg Pos','Opp Avg OEff']"
   ]
  },
  {
   "cell_type": "code",
   "execution_count": 23,
   "id": "56525d1f",
   "metadata": {},
   "outputs": [],
   "source": [
    "X_train, y_train = analysis.extract_training_data(feature_keys=feature_keys)"
   ]
  },
  {
   "cell_type": "code",
   "execution_count": 24,
   "id": "94d9fa01",
   "metadata": {},
   "outputs": [],
   "source": [
    "X_test, y_test = analysis.extract_validation_data(feature_keys=feature_keys)"
   ]
  },
  {
   "cell_type": "code",
   "execution_count": 25,
   "id": "72b41daf",
   "metadata": {},
   "outputs": [],
   "source": [
    "poly = PolynomialFeatures(2)"
   ]
  },
  {
   "cell_type": "code",
   "execution_count": 26,
   "id": "11a9eaa6",
   "metadata": {},
   "outputs": [],
   "source": [
    "X_train = poly.fit_transform(X_train)\n",
    "X_test = poly.fit_transform(X_test)"
   ]
  },
  {
   "cell_type": "code",
   "execution_count": 27,
   "id": "ed3156ad",
   "metadata": {},
   "outputs": [
    {
     "data": {
      "text/plain": [
       "(2317, 11175)"
      ]
     },
     "execution_count": 27,
     "metadata": {},
     "output_type": "execute_result"
    }
   ],
   "source": [
    "X_train.shape"
   ]
  },
  {
   "cell_type": "code",
   "execution_count": 28,
   "id": "b9a7355a",
   "metadata": {},
   "outputs": [
    {
     "data": {
      "text/plain": [
       "(2317,)"
      ]
     },
     "execution_count": 28,
     "metadata": {},
     "output_type": "execute_result"
    }
   ],
   "source": [
    "y_train.shape"
   ]
  },
  {
   "cell_type": "code",
   "execution_count": 29,
   "id": "bf148e5e",
   "metadata": {},
   "outputs": [
    {
     "data": {
      "text/plain": [
       "(67, 11175)"
      ]
     },
     "execution_count": 29,
     "metadata": {},
     "output_type": "execute_result"
    }
   ],
   "source": [
    "X_test.shape"
   ]
  },
  {
   "cell_type": "code",
   "execution_count": 30,
   "id": "5ca07e24",
   "metadata": {},
   "outputs": [
    {
     "data": {
      "text/plain": [
       "(67,)"
      ]
     },
     "execution_count": 30,
     "metadata": {},
     "output_type": "execute_result"
    }
   ],
   "source": [
    "y_test.shape"
   ]
  },
  {
   "cell_type": "code",
   "execution_count": 31,
   "id": "674b1c46",
   "metadata": {},
   "outputs": [
    {
     "name": "stderr",
     "output_type": "stream",
     "text": [
      "/opt/anaconda3/lib/python3.8/site-packages/sklearn/linear_model/_logistic.py:763: ConvergenceWarning: lbfgs failed to converge (status=1):\n",
      "STOP: TOTAL NO. of ITERATIONS REACHED LIMIT.\n",
      "\n",
      "Increase the number of iterations (max_iter) or scale the data as shown in:\n",
      "    https://scikit-learn.org/stable/modules/preprocessing.html\n",
      "Please also refer to the documentation for alternative solver options:\n",
      "    https://scikit-learn.org/stable/modules/linear_model.html#logistic-regression\n",
      "  n_iter_i = _check_optimize_result(\n"
     ]
    }
   ],
   "source": [
    "logreg = LogisticRegression().fit(X_train,y_train)"
   ]
  },
  {
   "cell_type": "code",
   "execution_count": 32,
   "id": "58c52b89",
   "metadata": {},
   "outputs": [
    {
     "data": {
      "text/plain": [
       "0.7388864911523522"
      ]
     },
     "execution_count": 32,
     "metadata": {},
     "output_type": "execute_result"
    }
   ],
   "source": [
    "logreg.score(X_train,y_train)"
   ]
  },
  {
   "cell_type": "code",
   "execution_count": 33,
   "id": "a114d485",
   "metadata": {},
   "outputs": [
    {
     "data": {
      "text/plain": [
       "0.5970149253731343"
      ]
     },
     "execution_count": 33,
     "metadata": {},
     "output_type": "execute_result"
    }
   ],
   "source": [
    "logreg.score(X_test,y_test)"
   ]
  },
  {
   "cell_type": "code",
   "execution_count": 34,
   "id": "462b3620",
   "metadata": {},
   "outputs": [],
   "source": [
    "forest = RandomForestClassifier(n_estimators=10000,max_features='sqrt',\n",
    "                                max_depth=5,random_state=100,n_jobs=2).fit(X_train,y_train)"
   ]
  },
  {
   "cell_type": "code",
   "execution_count": 35,
   "id": "fa3d6b58",
   "metadata": {},
   "outputs": [
    {
     "data": {
      "text/plain": [
       "0.7980146741476046"
      ]
     },
     "execution_count": 35,
     "metadata": {},
     "output_type": "execute_result"
    }
   ],
   "source": [
    "forest.score(X_train,y_train)"
   ]
  },
  {
   "cell_type": "code",
   "execution_count": 36,
   "id": "6e06a52b",
   "metadata": {},
   "outputs": [
    {
     "data": {
      "text/plain": [
       "0.6716417910447762"
      ]
     },
     "execution_count": 36,
     "metadata": {},
     "output_type": "execute_result"
    }
   ],
   "source": [
    "forest.score(X_test,y_test)"
   ]
  },
  {
   "cell_type": "code",
   "execution_count": 37,
   "id": "08eba15f",
   "metadata": {},
   "outputs": [],
   "source": [
    "logreg_pred = mm.bound_predictions(logreg.predict_proba(X_test)[:,1])"
   ]
  },
  {
   "cell_type": "code",
   "execution_count": 38,
   "id": "d5365c0a",
   "metadata": {},
   "outputs": [],
   "source": [
    "forest_pred = mm.bound_predictions(forest.predict_proba(X_test)[:,1])"
   ]
  },
  {
   "cell_type": "code",
   "execution_count": 39,
   "id": "bc7289ed",
   "metadata": {},
   "outputs": [
    {
     "data": {
      "text/plain": [
       "0.7901949394505107"
      ]
     },
     "execution_count": 39,
     "metadata": {},
     "output_type": "execute_result"
    }
   ],
   "source": [
    "analysis.score_model_predictions(y_test,logreg_pred)"
   ]
  },
  {
   "cell_type": "code",
   "execution_count": 40,
   "id": "87c9ae52",
   "metadata": {},
   "outputs": [
    {
     "data": {
      "text/plain": [
       "0.6159448696704682"
      ]
     },
     "execution_count": 40,
     "metadata": {},
     "output_type": "execute_result"
    }
   ],
   "source": [
    "analysis.score_model_predictions(y_test,forest_pred)"
   ]
  },
  {
   "cell_type": "markdown",
   "id": "726ad644",
   "metadata": {},
   "source": [
    "## Net Detailed Game Results"
   ]
  },
  {
   "cell_type": "markdown",
   "id": "851ef6f0",
   "metadata": {},
   "source": [
    "The last features I engineer were the 'net' statistics for all these parameters. These parameters can be interpreted as \"how the team did compared to what the opponent generally allowed\". For example if an opponent allows an average of 5 three-pointers per game and the team scored 10, that would be a net of 5 for that parameter in that game. \n",
    "\n",
    "So on offense these metrics capture, how well did the team do compared to what their opponents allow on average.\n",
    "\n",
    "And on defense they capture, how well did you limit your opponent compared to how much they normally produce.\n",
    "\n",
    "'Net' parameters were calculated for all stats derived from the 'detailed' information and were the average difference for all of the team's games."
   ]
  },
  {
   "cell_type": "code",
   "execution_count": 41,
   "id": "3a8ef9f2",
   "metadata": {},
   "outputs": [],
   "source": [
    "feature_keys = ['tourney seed','weighted win pct','owp','oowp','avg win margin','std win margin','avg loss margin',\n",
    "                'std loss margin','capped avg win margin','capped std win margin','capped avg loss margin',\n",
    "                'capped std loss margin','close wins','close losses','weighted top64 wins','weighted top32 wins',\n",
    "                'weighted top16 wins','weighted top8 wins','weighted top64 losses','weighted top32 losses',\n",
    "                'weighted top16 losses','weighted top8 losses','last10 win pct','last10 weighted win pct',\n",
    "                'last5 win pct','last5 weighted win pct','conference tourney wins','conference champ','Team Avg FGM',\n",
    "                'Team Avg FGA','Team Avg FGM3','Team Avg FGA3','Team Avg FTM','Team Avg FTA',\n",
    "                'Team Avg OR','Team Avg DR','Team Avg Ast','Team Avg TO%','Team Avg Stl%','Team Avg Blk%',\n",
    "                'Team Avg PF','Team Avg TR','Team Avg FGM2','Team Avg FGA2','Team Avg FG%','Team Avg FG2%',\n",
    "                'Team Avg FG3%','Team Avg FGA3%','Team Avg FT%','Team Avg Pos','Team Avg OEff','Opp Avg FGM',\n",
    "                'Opp Avg FGA','Opp Avg FGM3','Opp Avg FGA3','Opp Avg FTM','Opp Avg FTA','Opp Avg OR','Opp Avg DR',\n",
    "                'Opp Avg Ast','Opp Avg TO%','Opp Avg Stl%','Opp Avg Blk%','Opp Avg PF','Opp Avg TR','Opp Avg FGM2',\n",
    "                'Opp Avg FGA2','Opp Avg FG%','Opp Avg FG2%','Opp Avg FG3%','Opp Avg FGA3%','Opp Avg FT%',\n",
    "                'Opp Avg Pos','Opp Avg OEff','Net Team Avg FGM','Net Team Avg FGA','Net Team Avg FGM3',\n",
    "                'Net Team Avg FGA3','Net Team Avg FTM','Net Team Avg FTA','Net Team Avg OR','Net Team Avg DR',\n",
    "                'Net Team Avg Ast','Net Team Avg TO%','Net Team Avg Stl%','Net Team Avg Blk%','Net Team Avg PF',\n",
    "                'Net Team Avg TR','Net Team Avg FGM2','Net Team Avg FGA2','Net Team Avg FG%','Net Team Avg FG2%',\n",
    "                'Net Team Avg FG3%','Net Team Avg FGA3%','Net Team Avg FT%','Net Team Avg Pos','Net Team Avg OEff',\n",
    "                'Net Opp Avg FGM','Net Opp Avg FGA','Net Opp Avg FGM3','Net Opp Avg FGA3','Net Opp Avg FTM',\n",
    "                'Net Opp Avg FTA','Net Opp Avg OR','Net Opp Avg DR','Net Opp Avg Ast','Net Opp Avg TO%',\n",
    "                'Net Opp Avg Stl%','Net Opp Avg Blk%','Net Opp Avg PF','Net Opp Avg TR','Net Opp Avg FGM2',\n",
    "                'Net Opp Avg FGA2','Net Opp Avg FG%','Net Opp Avg FG2%','Net Opp Avg FG3%','Net Opp Avg FGA3%',\n",
    "                'Net Opp Avg FT%','Net Opp Avg Pos','Net Opp Avg OEff']"
   ]
  },
  {
   "cell_type": "code",
   "execution_count": 42,
   "id": "d85a8dd3",
   "metadata": {},
   "outputs": [],
   "source": [
    "X_train, y_train = analysis.extract_training_data(feature_keys=feature_keys)"
   ]
  },
  {
   "cell_type": "code",
   "execution_count": 43,
   "id": "3373c8aa",
   "metadata": {},
   "outputs": [],
   "source": [
    "X_test, y_test = analysis.extract_validation_data(feature_keys=feature_keys)"
   ]
  },
  {
   "cell_type": "code",
   "execution_count": 44,
   "id": "081a3245",
   "metadata": {},
   "outputs": [
    {
     "data": {
      "text/plain": [
       "(2317, 240)"
      ]
     },
     "execution_count": 44,
     "metadata": {},
     "output_type": "execute_result"
    }
   ],
   "source": [
    "X_train.shape"
   ]
  },
  {
   "cell_type": "code",
   "execution_count": 45,
   "id": "9400806d",
   "metadata": {},
   "outputs": [
    {
     "data": {
      "text/plain": [
       "(2317,)"
      ]
     },
     "execution_count": 45,
     "metadata": {},
     "output_type": "execute_result"
    }
   ],
   "source": [
    "y_train.shape"
   ]
  },
  {
   "cell_type": "code",
   "execution_count": 46,
   "id": "d4fdde27",
   "metadata": {},
   "outputs": [
    {
     "data": {
      "text/plain": [
       "(67, 240)"
      ]
     },
     "execution_count": 46,
     "metadata": {},
     "output_type": "execute_result"
    }
   ],
   "source": [
    "X_test.shape"
   ]
  },
  {
   "cell_type": "code",
   "execution_count": 47,
   "id": "ffd61649",
   "metadata": {},
   "outputs": [
    {
     "data": {
      "text/plain": [
       "(67,)"
      ]
     },
     "execution_count": 47,
     "metadata": {},
     "output_type": "execute_result"
    }
   ],
   "source": [
    "y_test.shape"
   ]
  },
  {
   "cell_type": "code",
   "execution_count": 48,
   "id": "2199aa18",
   "metadata": {},
   "outputs": [
    {
     "name": "stderr",
     "output_type": "stream",
     "text": [
      "/opt/anaconda3/lib/python3.8/site-packages/sklearn/linear_model/_logistic.py:763: ConvergenceWarning: lbfgs failed to converge (status=1):\n",
      "STOP: TOTAL NO. of ITERATIONS REACHED LIMIT.\n",
      "\n",
      "Increase the number of iterations (max_iter) or scale the data as shown in:\n",
      "    https://scikit-learn.org/stable/modules/preprocessing.html\n",
      "Please also refer to the documentation for alternative solver options:\n",
      "    https://scikit-learn.org/stable/modules/linear_model.html#logistic-regression\n",
      "  n_iter_i = _check_optimize_result(\n"
     ]
    }
   ],
   "source": [
    "logreg = LogisticRegression().fit(X_train,y_train)"
   ]
  },
  {
   "cell_type": "code",
   "execution_count": 49,
   "id": "9bf8a85a",
   "metadata": {},
   "outputs": [
    {
     "data": {
      "text/plain": [
       "0.7427708243418213"
      ]
     },
     "execution_count": 49,
     "metadata": {},
     "output_type": "execute_result"
    }
   ],
   "source": [
    "logreg.score(X_train,y_train)"
   ]
  },
  {
   "cell_type": "code",
   "execution_count": 50,
   "id": "00f4ded3",
   "metadata": {},
   "outputs": [
    {
     "data": {
      "text/plain": [
       "0.5970149253731343"
      ]
     },
     "execution_count": 50,
     "metadata": {},
     "output_type": "execute_result"
    }
   ],
   "source": [
    "logreg.score(X_test,y_test)"
   ]
  },
  {
   "cell_type": "code",
   "execution_count": 51,
   "id": "ad56d736",
   "metadata": {},
   "outputs": [],
   "source": [
    "forest = RandomForestClassifier(n_estimators=10000,max_features='sqrt',\n",
    "                                max_depth=5,random_state=100,n_jobs=2).fit(X_train,y_train)"
   ]
  },
  {
   "cell_type": "code",
   "execution_count": 52,
   "id": "010c1e61",
   "metadata": {},
   "outputs": [
    {
     "data": {
      "text/plain": [
       "0.7820457488131204"
      ]
     },
     "execution_count": 52,
     "metadata": {},
     "output_type": "execute_result"
    }
   ],
   "source": [
    "forest.score(X_train,y_train)"
   ]
  },
  {
   "cell_type": "code",
   "execution_count": 53,
   "id": "87e2a632",
   "metadata": {},
   "outputs": [
    {
     "data": {
      "text/plain": [
       "0.6567164179104478"
      ]
     },
     "execution_count": 53,
     "metadata": {},
     "output_type": "execute_result"
    }
   ],
   "source": [
    "forest.score(X_test,y_test)"
   ]
  },
  {
   "cell_type": "code",
   "execution_count": 54,
   "id": "fe723123",
   "metadata": {},
   "outputs": [],
   "source": [
    "logreg_pred = mm.bound_predictions(logreg.predict_proba(X_test)[:,1])"
   ]
  },
  {
   "cell_type": "code",
   "execution_count": 55,
   "id": "ef53ab64",
   "metadata": {},
   "outputs": [],
   "source": [
    "forest_pred = mm.bound_predictions(forest.predict_proba(X_test)[:,1])"
   ]
  },
  {
   "cell_type": "code",
   "execution_count": 56,
   "id": "413bc635",
   "metadata": {},
   "outputs": [
    {
     "data": {
      "text/plain": [
       "0.7167180750918998"
      ]
     },
     "execution_count": 56,
     "metadata": {},
     "output_type": "execute_result"
    }
   ],
   "source": [
    "analysis.score_model_predictions(y_test,logreg_pred)"
   ]
  },
  {
   "cell_type": "code",
   "execution_count": 57,
   "id": "cc8092a0",
   "metadata": {},
   "outputs": [
    {
     "data": {
      "text/plain": [
       "0.6062899829821622"
      ]
     },
     "execution_count": 57,
     "metadata": {},
     "output_type": "execute_result"
    }
   ],
   "source": [
    "analysis.score_model_predictions(y_test,forest_pred)"
   ]
  },
  {
   "cell_type": "markdown",
   "id": "177f9277",
   "metadata": {},
   "source": [
    "## Net Detailed Game Results + Interactions"
   ]
  },
  {
   "cell_type": "markdown",
   "id": "15d3e735",
   "metadata": {},
   "source": [
    "Again, the interactions between all of these features were added to the model. This again, helped the Random Forest and hurt the Logistic Regression."
   ]
  },
  {
   "cell_type": "code",
   "execution_count": 58,
   "id": "5dbd5c94",
   "metadata": {},
   "outputs": [],
   "source": [
    "feature_keys = ['tourney seed','weighted win pct','owp','oowp','avg win margin','std win margin','avg loss margin',\n",
    "                'std loss margin','capped avg win margin','capped std win margin','capped avg loss margin',\n",
    "                'capped std loss margin','close wins','close losses','weighted top64 wins','weighted top32 wins',\n",
    "                'weighted top16 wins','weighted top8 wins','weighted top64 losses','weighted top32 losses',\n",
    "                'weighted top16 losses','weighted top8 losses','last10 win pct','last10 weighted win pct',\n",
    "                'last5 win pct','last5 weighted win pct','conference tourney wins','conference champ','Team Avg FGM',\n",
    "                'Team Avg FGA','Team Avg FGM3','Team Avg FGA3','Team Avg FTM','Team Avg FTA',\n",
    "                'Team Avg OR','Team Avg DR','Team Avg Ast','Team Avg TO%','Team Avg Stl%','Team Avg Blk%',\n",
    "                'Team Avg PF','Team Avg TR','Team Avg FGM2','Team Avg FGA2','Team Avg FG%','Team Avg FG2%',\n",
    "                'Team Avg FG3%','Team Avg FGA3%','Team Avg FT%','Team Avg Pos','Team Avg OEff','Opp Avg FGM',\n",
    "                'Opp Avg FGA','Opp Avg FGM3','Opp Avg FGA3','Opp Avg FTM','Opp Avg FTA','Opp Avg OR','Opp Avg DR',\n",
    "                'Opp Avg Ast','Opp Avg TO%','Opp Avg Stl%','Opp Avg Blk%','Opp Avg PF','Opp Avg TR','Opp Avg FGM2',\n",
    "                'Opp Avg FGA2','Opp Avg FG%','Opp Avg FG2%','Opp Avg FG3%','Opp Avg FGA3%','Opp Avg FT%',\n",
    "                'Opp Avg Pos','Opp Avg OEff','Net Team Avg FGM','Net Team Avg FGA','Net Team Avg FGM3',\n",
    "                'Net Team Avg FGA3','Net Team Avg FTM','Net Team Avg FTA','Net Team Avg OR','Net Team Avg DR',\n",
    "                'Net Team Avg Ast','Net Team Avg TO%','Net Team Avg Stl%','Net Team Avg Blk%','Net Team Avg PF',\n",
    "                'Net Team Avg TR','Net Team Avg FGM2','Net Team Avg FGA2','Net Team Avg FG%','Net Team Avg FG2%',\n",
    "                'Net Team Avg FG3%','Net Team Avg FGA3%','Net Team Avg FT%','Net Team Avg Pos','Net Team Avg OEff',\n",
    "                'Net Opp Avg FGM','Net Opp Avg FGA','Net Opp Avg FGM3','Net Opp Avg FGA3','Net Opp Avg FTM',\n",
    "                'Net Opp Avg FTA','Net Opp Avg OR','Net Opp Avg DR','Net Opp Avg Ast','Net Opp Avg TO%',\n",
    "                'Net Opp Avg Stl%','Net Opp Avg Blk%','Net Opp Avg PF','Net Opp Avg TR','Net Opp Avg FGM2',\n",
    "                'Net Opp Avg FGA2','Net Opp Avg FG%','Net Opp Avg FG2%','Net Opp Avg FG3%','Net Opp Avg FGA3%',\n",
    "                'Net Opp Avg FT%','Net Opp Avg Pos','Net Opp Avg OEff']"
   ]
  },
  {
   "cell_type": "code",
   "execution_count": 59,
   "id": "f33153df",
   "metadata": {},
   "outputs": [],
   "source": [
    "X_train, y_train = analysis.extract_training_data(feature_keys=feature_keys)"
   ]
  },
  {
   "cell_type": "code",
   "execution_count": 60,
   "id": "43e6b90c",
   "metadata": {},
   "outputs": [],
   "source": [
    "X_test, y_test = analysis.extract_validation_data(feature_keys=feature_keys)"
   ]
  },
  {
   "cell_type": "code",
   "execution_count": 61,
   "id": "a5e78c2a",
   "metadata": {},
   "outputs": [],
   "source": [
    "poly = PolynomialFeatures(2)"
   ]
  },
  {
   "cell_type": "code",
   "execution_count": 62,
   "id": "43d8f89e",
   "metadata": {},
   "outputs": [],
   "source": [
    "X_train = poly.fit_transform(X_train)\n",
    "X_test = poly.fit_transform(X_test)"
   ]
  },
  {
   "cell_type": "code",
   "execution_count": 63,
   "id": "9ee2e767",
   "metadata": {},
   "outputs": [
    {
     "data": {
      "text/plain": [
       "(2317, 29161)"
      ]
     },
     "execution_count": 63,
     "metadata": {},
     "output_type": "execute_result"
    }
   ],
   "source": [
    "X_train.shape"
   ]
  },
  {
   "cell_type": "code",
   "execution_count": 64,
   "id": "4533acc5",
   "metadata": {},
   "outputs": [
    {
     "data": {
      "text/plain": [
       "(2317,)"
      ]
     },
     "execution_count": 64,
     "metadata": {},
     "output_type": "execute_result"
    }
   ],
   "source": [
    "y_train.shape"
   ]
  },
  {
   "cell_type": "code",
   "execution_count": 65,
   "id": "09b0c15d",
   "metadata": {},
   "outputs": [
    {
     "data": {
      "text/plain": [
       "(67, 29161)"
      ]
     },
     "execution_count": 65,
     "metadata": {},
     "output_type": "execute_result"
    }
   ],
   "source": [
    "X_test.shape"
   ]
  },
  {
   "cell_type": "code",
   "execution_count": 66,
   "id": "3f2b7f87",
   "metadata": {},
   "outputs": [
    {
     "data": {
      "text/plain": [
       "(67,)"
      ]
     },
     "execution_count": 66,
     "metadata": {},
     "output_type": "execute_result"
    }
   ],
   "source": [
    "y_test.shape"
   ]
  },
  {
   "cell_type": "code",
   "execution_count": 67,
   "id": "72567695",
   "metadata": {},
   "outputs": [
    {
     "name": "stderr",
     "output_type": "stream",
     "text": [
      "/opt/anaconda3/lib/python3.8/site-packages/sklearn/linear_model/_logistic.py:763: ConvergenceWarning: lbfgs failed to converge (status=1):\n",
      "STOP: TOTAL NO. of ITERATIONS REACHED LIMIT.\n",
      "\n",
      "Increase the number of iterations (max_iter) or scale the data as shown in:\n",
      "    https://scikit-learn.org/stable/modules/preprocessing.html\n",
      "Please also refer to the documentation for alternative solver options:\n",
      "    https://scikit-learn.org/stable/modules/linear_model.html#logistic-regression\n",
      "  n_iter_i = _check_optimize_result(\n"
     ]
    }
   ],
   "source": [
    "logreg = LogisticRegression().fit(X_train,y_train)"
   ]
  },
  {
   "cell_type": "code",
   "execution_count": 68,
   "id": "43a969d2",
   "metadata": {},
   "outputs": [
    {
     "data": {
      "text/plain": [
       "0.743202416918429"
      ]
     },
     "execution_count": 68,
     "metadata": {},
     "output_type": "execute_result"
    }
   ],
   "source": [
    "logreg.score(X_train,y_train)"
   ]
  },
  {
   "cell_type": "code",
   "execution_count": 69,
   "id": "2cfb786a",
   "metadata": {},
   "outputs": [
    {
     "data": {
      "text/plain": [
       "0.6119402985074627"
      ]
     },
     "execution_count": 69,
     "metadata": {},
     "output_type": "execute_result"
    }
   ],
   "source": [
    "logreg.score(X_test,y_test)"
   ]
  },
  {
   "cell_type": "code",
   "execution_count": 70,
   "id": "dab9c755",
   "metadata": {},
   "outputs": [],
   "source": [
    "forest = RandomForestClassifier(n_estimators=10000,max_features='sqrt',\n",
    "                                max_depth=5,random_state=100,n_jobs=2).fit(X_train,y_train)"
   ]
  },
  {
   "cell_type": "code",
   "execution_count": 71,
   "id": "82bc7af7",
   "metadata": {},
   "outputs": [
    {
     "data": {
      "text/plain": [
       "0.8118256365990505"
      ]
     },
     "execution_count": 71,
     "metadata": {},
     "output_type": "execute_result"
    }
   ],
   "source": [
    "forest.score(X_train,y_train)"
   ]
  },
  {
   "cell_type": "code",
   "execution_count": 72,
   "id": "24cd8d4a",
   "metadata": {},
   "outputs": [
    {
     "data": {
      "text/plain": [
       "0.6567164179104478"
      ]
     },
     "execution_count": 72,
     "metadata": {},
     "output_type": "execute_result"
    }
   ],
   "source": [
    "forest.score(X_test,y_test)"
   ]
  },
  {
   "cell_type": "code",
   "execution_count": 73,
   "id": "9da28a63",
   "metadata": {},
   "outputs": [],
   "source": [
    "logreg_pred = mm.bound_predictions(logreg.predict_proba(X_test)[:,1])"
   ]
  },
  {
   "cell_type": "code",
   "execution_count": 74,
   "id": "5b274fce",
   "metadata": {},
   "outputs": [],
   "source": [
    "forest_pred = mm.bound_predictions(forest.predict_proba(X_test)[:,1])"
   ]
  },
  {
   "cell_type": "code",
   "execution_count": 75,
   "id": "fb9b2439",
   "metadata": {},
   "outputs": [
    {
     "data": {
      "text/plain": [
       "0.7295417529811066"
      ]
     },
     "execution_count": 75,
     "metadata": {},
     "output_type": "execute_result"
    }
   ],
   "source": [
    "analysis.score_model_predictions(y_test,logreg_pred)"
   ]
  },
  {
   "cell_type": "code",
   "execution_count": 76,
   "id": "f7795106",
   "metadata": {
    "scrolled": true
   },
   "outputs": [
    {
     "data": {
      "text/plain": [
       "0.6125969406878569"
      ]
     },
     "execution_count": 76,
     "metadata": {},
     "output_type": "execute_result"
    }
   ],
   "source": [
    "analysis.score_model_predictions(y_test,forest_pred)"
   ]
  }
 ],
 "metadata": {
  "kernelspec": {
   "display_name": "Python 3",
   "language": "python",
   "name": "python3"
  },
  "language_info": {
   "codemirror_mode": {
    "name": "ipython",
    "version": 3
   },
   "file_extension": ".py",
   "mimetype": "text/x-python",
   "name": "python",
   "nbconvert_exporter": "python",
   "pygments_lexer": "ipython3",
   "version": "3.8.8"
  }
 },
 "nbformat": 4,
 "nbformat_minor": 5
}
