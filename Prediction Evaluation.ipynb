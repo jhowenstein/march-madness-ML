{
 "cells": [
  {
   "cell_type": "code",
   "execution_count": 1,
   "id": "64aa0ff0",
   "metadata": {},
   "outputs": [],
   "source": [
    "import numpy as np\n",
    "import pandas as pd\n",
    "\n",
    "import matplotlib.pyplot as plt\n",
    "\n",
    "import os"
   ]
  },
  {
   "cell_type": "code",
   "execution_count": 2,
   "id": "ea2626ca",
   "metadata": {},
   "outputs": [],
   "source": [
    "def parse_seed(seed_string):\n",
    "    seed_num = ''\n",
    "    for letter in seed_string:\n",
    "        if letter.isdigit():\n",
    "            seed_num += letter\n",
    "\n",
    "    seed_int = int(seed_num)\n",
    "    return seed_int"
   ]
  },
  {
   "cell_type": "code",
   "execution_count": 3,
   "id": "a12de0a3",
   "metadata": {},
   "outputs": [],
   "source": [
    "basepath = os.path.expanduser('~/Documents/march-madness-ML')"
   ]
  },
  {
   "cell_type": "code",
   "execution_count": 4,
   "id": "a40d057b",
   "metadata": {},
   "outputs": [],
   "source": [
    "data_folder = os.path.join(basepath,'MDataFiles_Stage1')"
   ]
  },
  {
   "cell_type": "code",
   "execution_count": 5,
   "id": "5477640a",
   "metadata": {},
   "outputs": [],
   "source": [
    "teams = pd.read_csv(os.path.join(data_folder,'MTeams.csv'),index_col=0)"
   ]
  },
  {
   "cell_type": "code",
   "execution_count": 6,
   "id": "5c8dab17",
   "metadata": {},
   "outputs": [],
   "source": [
    "seasons = pd.read_csv(os.path.join(data_folder,'MSeasons.csv'),index_col=0)"
   ]
  },
  {
   "cell_type": "code",
   "execution_count": 7,
   "id": "64d3eb31",
   "metadata": {},
   "outputs": [],
   "source": [
    "tourney_results = pd.read_csv(os.path.join(data_folder,'MNCAATourneyCompactResults.csv'))"
   ]
  },
  {
   "cell_type": "code",
   "execution_count": 8,
   "id": "7d0774cb",
   "metadata": {},
   "outputs": [],
   "source": [
    "tourney_seeds = pd.read_csv(os.path.join(data_folder,'MNCAATourneySeeds.csv'))"
   ]
  },
  {
   "cell_type": "code",
   "execution_count": 9,
   "id": "6f74596b",
   "metadata": {},
   "outputs": [],
   "source": [
    "seasons = np.arange(1985,2021)"
   ]
  },
  {
   "cell_type": "code",
   "execution_count": 10,
   "id": "2e0b3342",
   "metadata": {},
   "outputs": [],
   "source": [
    "season = 2019\n",
    "\n",
    "#predictions_filename = 'seed win percentage - predictions.csv'\n",
    "predictions_filename = 'MDataFiles_Stage1/MSampleSubmissionStage1.csv'\n",
    "predictions = pd.read_csv(predictions_filename,index_col=0)['Pred']"
   ]
  },
  {
   "cell_type": "code",
   "execution_count": 11,
   "id": "a3d81062",
   "metadata": {},
   "outputs": [],
   "source": [
    "def score_game(pct):\n",
    "    score = np.log(pct)\n",
    "    return score"
   ]
  },
  {
   "cell_type": "code",
   "execution_count": 16,
   "id": "a2adafb3",
   "metadata": {},
   "outputs": [],
   "source": [
    "season_tourney_seeds = tourney_seeds[tourney_seeds['Season']==season].set_index('TeamID')\n",
    "season_tournament_results = tournament_results[tournament_results['Season']==season]\n",
    "\n",
    "nGames = season_tournament_results.shape[0]\n",
    "\n",
    "season_score_total = 0\n",
    "for i in season_tournament_results.index:\n",
    "    game_result = season_tournament_results.loc[i]\n",
    "    winner_id = game_result['WTeamID']\n",
    "    loser_id = game_result['LTeamID']\n",
    "\n",
    "    if winner_id < loser_id:\n",
    "        pct = predictions[f'{season}_{winner_id}_{loser_id}']\n",
    "    elif winner_id > loser_id:\n",
    "        pct = 1 - predictions[f'{season}_{loser_id}_{winner_id}']\n",
    "        \n",
    "    season_score_total += score_game(pct)\n",
    "    \n",
    "final_score = - season_score_total / nGames"
   ]
  },
  {
   "cell_type": "code",
   "execution_count": 18,
   "id": "60797309",
   "metadata": {},
   "outputs": [
    {
     "data": {
      "text/plain": [
       "0.6931471805599453"
      ]
     },
     "execution_count": 18,
     "metadata": {},
     "output_type": "execute_result"
    }
   ],
   "source": [
    "final_score"
   ]
  },
  {
   "cell_type": "code",
   "execution_count": null,
   "id": "0fe72b81",
   "metadata": {},
   "outputs": [],
   "source": []
  }
 ],
 "metadata": {
  "kernelspec": {
   "display_name": "Python 3",
   "language": "python",
   "name": "python3"
  },
  "language_info": {
   "codemirror_mode": {
    "name": "ipython",
    "version": 3
   },
   "file_extension": ".py",
   "mimetype": "text/x-python",
   "name": "python",
   "nbconvert_exporter": "python",
   "pygments_lexer": "ipython3",
   "version": "3.8.8"
  }
 },
 "nbformat": 4,
 "nbformat_minor": 5
}
