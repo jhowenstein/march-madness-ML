{
 "cells": [
  {
   "cell_type": "code",
   "execution_count": 22,
   "id": "e50e2fba",
   "metadata": {},
   "outputs": [],
   "source": [
    "import numpy as np\n",
    "import pandas as pd\n",
    "\n",
    "import matplotlib.pyplot as plt\n",
    "\n",
    "import os\n",
    "\n",
    "import march_madness as mm\n",
    "import random"
   ]
  },
  {
   "cell_type": "code",
   "execution_count": 2,
   "id": "0cc23686",
   "metadata": {},
   "outputs": [],
   "source": [
    "def parse_seed(seed_string):\n",
    "    seed_num = ''\n",
    "    for letter in seed_string:\n",
    "        if letter.isdigit():\n",
    "            seed_num += letter\n",
    "\n",
    "    seed_int = int(seed_num)\n",
    "    return seed_int"
   ]
  },
  {
   "cell_type": "code",
   "execution_count": 3,
   "id": "b617a911",
   "metadata": {},
   "outputs": [],
   "source": [
    "analysis = mm.Analysis()"
   ]
  },
  {
   "cell_type": "code",
   "execution_count": 4,
   "id": "aad68913",
   "metadata": {},
   "outputs": [],
   "source": [
    "analysis.load_season(2019)"
   ]
  },
  {
   "cell_type": "code",
   "execution_count": 5,
   "id": "a251c809",
   "metadata": {},
   "outputs": [],
   "source": [
    "season = analysis.seasons[2019]"
   ]
  },
  {
   "cell_type": "code",
   "execution_count": 6,
   "id": "e890601a",
   "metadata": {},
   "outputs": [],
   "source": [
    "season.add_teams()"
   ]
  },
  {
   "cell_type": "code",
   "execution_count": 7,
   "id": "1412a817",
   "metadata": {},
   "outputs": [],
   "source": [
    "season.assign_tourney_seeds()"
   ]
  },
  {
   "cell_type": "code",
   "execution_count": 8,
   "id": "8b4522dc",
   "metadata": {},
   "outputs": [],
   "source": [
    "feature_keys = ['tourney seed']"
   ]
  },
  {
   "cell_type": "code",
   "execution_count": 9,
   "id": "fbfe0cfe",
   "metadata": {},
   "outputs": [
    {
     "data": {
      "text/html": [
       "<div>\n",
       "<style scoped>\n",
       "    .dataframe tbody tr th:only-of-type {\n",
       "        vertical-align: middle;\n",
       "    }\n",
       "\n",
       "    .dataframe tbody tr th {\n",
       "        vertical-align: top;\n",
       "    }\n",
       "\n",
       "    .dataframe thead th {\n",
       "        text-align: right;\n",
       "    }\n",
       "</style>\n",
       "<table border=\"1\" class=\"dataframe\">\n",
       "  <thead>\n",
       "    <tr style=\"text-align: right;\">\n",
       "      <th></th>\n",
       "      <th>Season</th>\n",
       "      <th>DayNum</th>\n",
       "      <th>WTeamID</th>\n",
       "      <th>WScore</th>\n",
       "      <th>LTeamID</th>\n",
       "      <th>LScore</th>\n",
       "      <th>WLoc</th>\n",
       "      <th>NumOT</th>\n",
       "    </tr>\n",
       "  </thead>\n",
       "  <tbody>\n",
       "    <tr>\n",
       "      <th>2184</th>\n",
       "      <td>2019</td>\n",
       "      <td>134</td>\n",
       "      <td>1125</td>\n",
       "      <td>81</td>\n",
       "      <td>1396</td>\n",
       "      <td>70</td>\n",
       "      <td>N</td>\n",
       "      <td>0</td>\n",
       "    </tr>\n",
       "    <tr>\n",
       "      <th>2185</th>\n",
       "      <td>2019</td>\n",
       "      <td>134</td>\n",
       "      <td>1192</td>\n",
       "      <td>82</td>\n",
       "      <td>1341</td>\n",
       "      <td>76</td>\n",
       "      <td>N</td>\n",
       "      <td>0</td>\n",
       "    </tr>\n",
       "    <tr>\n",
       "      <th>2186</th>\n",
       "      <td>2019</td>\n",
       "      <td>135</td>\n",
       "      <td>1113</td>\n",
       "      <td>74</td>\n",
       "      <td>1385</td>\n",
       "      <td>65</td>\n",
       "      <td>N</td>\n",
       "      <td>0</td>\n",
       "    </tr>\n",
       "    <tr>\n",
       "      <th>2187</th>\n",
       "      <td>2019</td>\n",
       "      <td>135</td>\n",
       "      <td>1295</td>\n",
       "      <td>78</td>\n",
       "      <td>1300</td>\n",
       "      <td>74</td>\n",
       "      <td>N</td>\n",
       "      <td>0</td>\n",
       "    </tr>\n",
       "    <tr>\n",
       "      <th>2188</th>\n",
       "      <td>2019</td>\n",
       "      <td>136</td>\n",
       "      <td>1120</td>\n",
       "      <td>78</td>\n",
       "      <td>1308</td>\n",
       "      <td>77</td>\n",
       "      <td>N</td>\n",
       "      <td>0</td>\n",
       "    </tr>\n",
       "    <tr>\n",
       "      <th>...</th>\n",
       "      <td>...</td>\n",
       "      <td>...</td>\n",
       "      <td>...</td>\n",
       "      <td>...</td>\n",
       "      <td>...</td>\n",
       "      <td>...</td>\n",
       "      <td>...</td>\n",
       "      <td>...</td>\n",
       "    </tr>\n",
       "    <tr>\n",
       "      <th>2246</th>\n",
       "      <td>2019</td>\n",
       "      <td>146</td>\n",
       "      <td>1120</td>\n",
       "      <td>77</td>\n",
       "      <td>1246</td>\n",
       "      <td>71</td>\n",
       "      <td>N</td>\n",
       "      <td>1</td>\n",
       "    </tr>\n",
       "    <tr>\n",
       "      <th>2247</th>\n",
       "      <td>2019</td>\n",
       "      <td>146</td>\n",
       "      <td>1277</td>\n",
       "      <td>68</td>\n",
       "      <td>1181</td>\n",
       "      <td>67</td>\n",
       "      <td>N</td>\n",
       "      <td>0</td>\n",
       "    </tr>\n",
       "    <tr>\n",
       "      <th>2248</th>\n",
       "      <td>2019</td>\n",
       "      <td>152</td>\n",
       "      <td>1403</td>\n",
       "      <td>61</td>\n",
       "      <td>1277</td>\n",
       "      <td>51</td>\n",
       "      <td>N</td>\n",
       "      <td>0</td>\n",
       "    </tr>\n",
       "    <tr>\n",
       "      <th>2249</th>\n",
       "      <td>2019</td>\n",
       "      <td>152</td>\n",
       "      <td>1438</td>\n",
       "      <td>63</td>\n",
       "      <td>1120</td>\n",
       "      <td>62</td>\n",
       "      <td>N</td>\n",
       "      <td>0</td>\n",
       "    </tr>\n",
       "    <tr>\n",
       "      <th>2250</th>\n",
       "      <td>2019</td>\n",
       "      <td>154</td>\n",
       "      <td>1438</td>\n",
       "      <td>85</td>\n",
       "      <td>1403</td>\n",
       "      <td>77</td>\n",
       "      <td>N</td>\n",
       "      <td>1</td>\n",
       "    </tr>\n",
       "  </tbody>\n",
       "</table>\n",
       "<p>67 rows × 8 columns</p>\n",
       "</div>"
      ],
      "text/plain": [
       "      Season  DayNum  WTeamID  WScore  LTeamID  LScore WLoc  NumOT\n",
       "2184    2019     134     1125      81     1396      70    N      0\n",
       "2185    2019     134     1192      82     1341      76    N      0\n",
       "2186    2019     135     1113      74     1385      65    N      0\n",
       "2187    2019     135     1295      78     1300      74    N      0\n",
       "2188    2019     136     1120      78     1308      77    N      0\n",
       "...      ...     ...      ...     ...      ...     ...  ...    ...\n",
       "2246    2019     146     1120      77     1246      71    N      1\n",
       "2247    2019     146     1277      68     1181      67    N      0\n",
       "2248    2019     152     1403      61     1277      51    N      0\n",
       "2249    2019     152     1438      63     1120      62    N      0\n",
       "2250    2019     154     1438      85     1403      77    N      1\n",
       "\n",
       "[67 rows x 8 columns]"
      ]
     },
     "execution_count": 9,
     "metadata": {},
     "output_type": "execute_result"
    }
   ],
   "source": [
    "season.tourney_results"
   ]
  },
  {
   "cell_type": "code",
   "execution_count": 10,
   "id": "5555ac65",
   "metadata": {},
   "outputs": [],
   "source": [
    "model_data = []\n",
    "game_results = []\n",
    "\n",
    "for index in season.tourney_results.index:\n",
    "    game = season.tourney_results.loc[index]\n",
    "    \n",
    "    winner_id = game['WTeamID']\n",
    "    loser_id = game['LTeamID']\n",
    "    \n",
    "    if winner_id < loser_id:\n",
    "        team1_id = winner_id\n",
    "        team2_id = loser_id\n",
    "        team1_win = 1\n",
    "    else:\n",
    "        team1_id = loser_id\n",
    "        team2_id = winner_id\n",
    "        team1_win = 0\n",
    "        \n",
    "    team1 = season.teams[team1_id]\n",
    "    team2 = season.teams[team2_id]\n",
    "        \n",
    "    team1_features = []\n",
    "    team2_features = []\n",
    "    for key in feature_keys:\n",
    "        team1_features.append(team1.features[key])\n",
    "        team2_features.append(team2.features[key])\n",
    "        \n",
    "    game_features = team1_features + team2_features\n",
    "    \n",
    "    model_data.append(game_features)\n",
    "    game_results.append(team1_win)"
   ]
  },
  {
   "cell_type": "code",
   "execution_count": 11,
   "id": "ecc00437",
   "metadata": {},
   "outputs": [],
   "source": [
    "team1_data_names = []\n",
    "team2_data_names = []\n",
    "for key in feature_keys:\n",
    "    team1_data_names.append(f'team1 - {key}')\n",
    "    team2_data_names.append(f'team2 - {key}')\n",
    "    \n",
    "data_names = team1_data_names + team2_data_names"
   ]
  },
  {
   "cell_type": "code",
   "execution_count": 12,
   "id": "9cdd76fd",
   "metadata": {},
   "outputs": [],
   "source": [
    "model_data = pd.DataFrame(model_data,columns=data_names)"
   ]
  },
  {
   "cell_type": "code",
   "execution_count": 13,
   "id": "ceab9cb8",
   "metadata": {},
   "outputs": [],
   "source": [
    "game_results = np.array(game_results)"
   ]
  },
  {
   "cell_type": "code",
   "execution_count": 14,
   "id": "0ce336af",
   "metadata": {},
   "outputs": [
    {
     "data": {
      "text/plain": [
       "(67, 2)"
      ]
     },
     "execution_count": 14,
     "metadata": {},
     "output_type": "execute_result"
    }
   ],
   "source": [
    "model_data.shape"
   ]
  },
  {
   "cell_type": "code",
   "execution_count": 15,
   "id": "89a3bebf",
   "metadata": {},
   "outputs": [
    {
     "data": {
      "text/plain": [
       "(67,)"
      ]
     },
     "execution_count": 15,
     "metadata": {},
     "output_type": "execute_result"
    }
   ],
   "source": [
    "game_results.shape"
   ]
  },
  {
   "cell_type": "code",
   "execution_count": 17,
   "id": "22c504c7",
   "metadata": {},
   "outputs": [],
   "source": [
    "X,y = season.generate_tourney_model_data(feature_keys=['tourney seed'])"
   ]
  },
  {
   "cell_type": "code",
   "execution_count": 18,
   "id": "2fa2f402",
   "metadata": {},
   "outputs": [
    {
     "data": {
      "text/plain": [
       "(67, 2)"
      ]
     },
     "execution_count": 18,
     "metadata": {},
     "output_type": "execute_result"
    }
   ],
   "source": [
    "X.shape"
   ]
  },
  {
   "cell_type": "code",
   "execution_count": 19,
   "id": "0811ad17",
   "metadata": {},
   "outputs": [
    {
     "data": {
      "text/plain": [
       "(67,)"
      ]
     },
     "execution_count": 19,
     "metadata": {},
     "output_type": "execute_result"
    }
   ],
   "source": [
    "y.shape"
   ]
  },
  {
   "cell_type": "code",
   "execution_count": 21,
   "id": "a5ba0355",
   "metadata": {},
   "outputs": [
    {
     "data": {
      "text/html": [
       "<div>\n",
       "<style scoped>\n",
       "    .dataframe tbody tr th:only-of-type {\n",
       "        vertical-align: middle;\n",
       "    }\n",
       "\n",
       "    .dataframe tbody tr th {\n",
       "        vertical-align: top;\n",
       "    }\n",
       "\n",
       "    .dataframe thead th {\n",
       "        text-align: right;\n",
       "    }\n",
       "</style>\n",
       "<table border=\"1\" class=\"dataframe\">\n",
       "  <thead>\n",
       "    <tr style=\"text-align: right;\">\n",
       "      <th></th>\n",
       "      <th>team1 - tourney seed</th>\n",
       "      <th>team2 - tourney seed</th>\n",
       "    </tr>\n",
       "  </thead>\n",
       "  <tbody>\n",
       "    <tr>\n",
       "      <th>0</th>\n",
       "      <td>11</td>\n",
       "      <td>11</td>\n",
       "    </tr>\n",
       "    <tr>\n",
       "      <th>1</th>\n",
       "      <td>16</td>\n",
       "      <td>16</td>\n",
       "    </tr>\n",
       "    <tr>\n",
       "      <th>2</th>\n",
       "      <td>11</td>\n",
       "      <td>11</td>\n",
       "    </tr>\n",
       "    <tr>\n",
       "      <th>3</th>\n",
       "      <td>16</td>\n",
       "      <td>16</td>\n",
       "    </tr>\n",
       "    <tr>\n",
       "      <th>4</th>\n",
       "      <td>5</td>\n",
       "      <td>12</td>\n",
       "    </tr>\n",
       "    <tr>\n",
       "      <th>...</th>\n",
       "      <td>...</td>\n",
       "      <td>...</td>\n",
       "    </tr>\n",
       "    <tr>\n",
       "      <th>62</th>\n",
       "      <td>5</td>\n",
       "      <td>2</td>\n",
       "    </tr>\n",
       "    <tr>\n",
       "      <th>63</th>\n",
       "      <td>1</td>\n",
       "      <td>2</td>\n",
       "    </tr>\n",
       "    <tr>\n",
       "      <th>64</th>\n",
       "      <td>2</td>\n",
       "      <td>3</td>\n",
       "    </tr>\n",
       "    <tr>\n",
       "      <th>65</th>\n",
       "      <td>5</td>\n",
       "      <td>1</td>\n",
       "    </tr>\n",
       "    <tr>\n",
       "      <th>66</th>\n",
       "      <td>3</td>\n",
       "      <td>1</td>\n",
       "    </tr>\n",
       "  </tbody>\n",
       "</table>\n",
       "<p>67 rows × 2 columns</p>\n",
       "</div>"
      ],
      "text/plain": [
       "    team1 - tourney seed  team2 - tourney seed\n",
       "0                     11                    11\n",
       "1                     16                    16\n",
       "2                     11                    11\n",
       "3                     16                    16\n",
       "4                      5                    12\n",
       "..                   ...                   ...\n",
       "62                     5                     2\n",
       "63                     1                     2\n",
       "64                     2                     3\n",
       "65                     5                     1\n",
       "66                     3                     1\n",
       "\n",
       "[67 rows x 2 columns]"
      ]
     },
     "execution_count": 21,
     "metadata": {},
     "output_type": "execute_result"
    }
   ],
   "source": [
    "X"
   ]
  },
  {
   "cell_type": "code",
   "execution_count": null,
   "id": "eced596b",
   "metadata": {},
   "outputs": [],
   "source": []
  }
 ],
 "metadata": {
  "kernelspec": {
   "display_name": "Python 3",
   "language": "python",
   "name": "python3"
  },
  "language_info": {
   "codemirror_mode": {
    "name": "ipython",
    "version": 3
   },
   "file_extension": ".py",
   "mimetype": "text/x-python",
   "name": "python",
   "nbconvert_exporter": "python",
   "pygments_lexer": "ipython3",
   "version": "3.8.8"
  }
 },
 "nbformat": 4,
 "nbformat_minor": 5
}
