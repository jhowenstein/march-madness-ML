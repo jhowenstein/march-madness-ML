{
 "cells": [
  {
   "cell_type": "code",
   "execution_count": 1,
   "id": "87a66dae",
   "metadata": {},
   "outputs": [],
   "source": [
    "import numpy as np\n",
    "import pandas as pd\n",
    "\n",
    "import matplotlib.pyplot as plt\n",
    "\n",
    "import os"
   ]
  },
  {
   "cell_type": "code",
   "execution_count": 2,
   "id": "db17211e",
   "metadata": {},
   "outputs": [],
   "source": [
    "def parse_seed(seed_string):\n",
    "    seed_num = ''\n",
    "    for letter in seed_string:\n",
    "        if letter.isdigit():\n",
    "            seed_num += letter\n",
    "\n",
    "    seed_int = int(seed_num)\n",
    "    return seed_int"
   ]
  },
  {
   "cell_type": "code",
   "execution_count": 3,
   "id": "4aa9f19f",
   "metadata": {},
   "outputs": [],
   "source": [
    "basepath = os.path.expanduser('~/Documents/march-madness-ML')"
   ]
  },
  {
   "cell_type": "code",
   "execution_count": 4,
   "id": "d23043b1",
   "metadata": {},
   "outputs": [],
   "source": [
    "data_folder = os.path.join(basepath,'MDataFiles_Stage1')"
   ]
  },
  {
   "cell_type": "code",
   "execution_count": 5,
   "id": "67c045fa",
   "metadata": {},
   "outputs": [],
   "source": [
    "teams = pd.read_csv(os.path.join(data_folder,'MTeams.csv'),index_col=0)"
   ]
  },
  {
   "cell_type": "code",
   "execution_count": 6,
   "id": "93fa9d53",
   "metadata": {},
   "outputs": [],
   "source": [
    "seasons = pd.read_csv(os.path.join(data_folder,'MSeasons.csv'),index_col=0)"
   ]
  },
  {
   "cell_type": "code",
   "execution_count": 7,
   "id": "19a19f9e",
   "metadata": {},
   "outputs": [],
   "source": [
    "tournament_results = pd.read_csv(os.path.join(data_folder,'MNCAATourneyCompactResults.csv'))"
   ]
  },
  {
   "cell_type": "code",
   "execution_count": 8,
   "id": "d688e5e7",
   "metadata": {},
   "outputs": [],
   "source": [
    "tourney_seeds = pd.read_csv(os.path.join(data_folder,'MNCAATourneySeeds.csv'))"
   ]
  },
  {
   "cell_type": "code",
   "execution_count": 9,
   "id": "b6c9d6b6",
   "metadata": {},
   "outputs": [],
   "source": [
    "seasons = np.arange(1985,2021)"
   ]
  },
  {
   "cell_type": "code",
   "execution_count": 10,
   "id": "83f13caa",
   "metadata": {},
   "outputs": [],
   "source": [
    "seed_win_counts = {}\n",
    "\n",
    "number_seeds = 16\n",
    "for i in range(1,number_seeds):\n",
    "    seed_opponents = {}\n",
    "    \n",
    "    for j in range(i,number_seeds+1):\n",
    "        seed_opponents[j] = {}\n",
    "        seed_opponents[j]['wins'] = 0\n",
    "        seed_opponents[j]['losses'] = 0\n",
    "        \n",
    "    seed_win_counts[i] = seed_opponents"
   ]
  },
  {
   "cell_type": "code",
   "execution_count": 11,
   "id": "85e19da3",
   "metadata": {},
   "outputs": [],
   "source": [
    "for season in seasons:\n",
    "    if season == 2020:\n",
    "        continue\n",
    "        \n",
    "    season_tourney_seeds = tourney_seeds[tourney_seeds['Season']==season].set_index('TeamID')\n",
    "    season_tournament_results = tournament_results[tournament_results['Season']==season]\n",
    "    \n",
    "    for i in season_tournament_results.index:\n",
    "        game_result = season_tournament_results.loc[i]\n",
    "        winner_id = game_result['WTeamID']\n",
    "        loser_id = game_result['LTeamID']\n",
    "\n",
    "        winner_seed = parse_seed(season_tourney_seeds.loc[winner_id,'Seed'])\n",
    "        loser_seed = parse_seed(season_tourney_seeds.loc[loser_id,'Seed'])\n",
    "\n",
    "        if winner_seed == loser_seed:\n",
    "            continue\n",
    "        elif winner_seed < loser_seed:\n",
    "            seed_win_counts[winner_seed][loser_seed]['wins'] += 1\n",
    "        elif loser_seed < winner_seed:\n",
    "            seed_win_counts[loser_seed][winner_seed]['losses'] += 1"
   ]
  },
  {
   "cell_type": "code",
   "execution_count": 12,
   "id": "82be0e8e",
   "metadata": {},
   "outputs": [],
   "source": [
    "number_seeds = 16\n",
    "for i in range(1,number_seeds):\n",
    "    for j in range(i,number_seeds+1):\n",
    "        if i == j:\n",
    "            pct = 0.5\n",
    "        else:  \n",
    "            high_seed_wins = seed_win_counts[i][j]['wins']\n",
    "            low_seed_wins = seed_win_counts[i][j]['losses']\n",
    "\n",
    "            if (high_seed_wins + low_seed_wins) >= 5:\n",
    "                pct = high_seed_wins / (high_seed_wins + low_seed_wins)\n",
    "                if pct == 1:\n",
    "                    pct = .99\n",
    "            else:\n",
    "                pct = 0.5\n",
    "            \n",
    "        seed_win_counts[i][j]['pct'] = round(pct,3)"
   ]
  },
  {
   "cell_type": "code",
   "execution_count": 13,
   "id": "d25af0a6",
   "metadata": {},
   "outputs": [
    {
     "data": {
      "text/plain": [
       "{1: {1: {'wins': 0, 'losses': 0, 'pct': 0.5},\n",
       "  2: {'wins': 35, 'losses': 30, 'pct': 0.538},\n",
       "  3: {'wins': 21, 'losses': 14, 'pct': 0.6},\n",
       "  4: {'wins': 46, 'losses': 17, 'pct': 0.73},\n",
       "  5: {'wins': 39, 'losses': 8, 'pct': 0.83},\n",
       "  6: {'wins': 8, 'losses': 3, 'pct': 0.727},\n",
       "  7: {'wins': 6, 'losses': 1, 'pct': 0.857},\n",
       "  8: {'wins': 56, 'losses': 14, 'pct': 0.8},\n",
       "  9: {'wins': 66, 'losses': 6, 'pct': 0.917},\n",
       "  10: {'wins': 5, 'losses': 1, 'pct': 0.833},\n",
       "  11: {'wins': 4, 'losses': 3, 'pct': 0.571},\n",
       "  12: {'wins': 20, 'losses': 0, 'pct': 0.99},\n",
       "  13: {'wins': 4, 'losses': 0, 'pct': 0.5},\n",
       "  14: {'wins': 0, 'losses': 0, 'pct': 0.5},\n",
       "  15: {'wins': 0, 'losses': 0, 'pct': 0.5},\n",
       "  16: {'wins': 139, 'losses': 1, 'pct': 0.993}},\n",
       " 2: {2: {'wins': 0, 'losses': 0, 'pct': 0.5},\n",
       "  3: {'wins': 34, 'losses': 22, 'pct': 0.607},\n",
       "  4: {'wins': 3, 'losses': 4, 'pct': 0.429},\n",
       "  5: {'wins': 0, 'losses': 5, 'pct': 0.0},\n",
       "  6: {'wins': 24, 'losses': 7, 'pct': 0.774},\n",
       "  7: {'wins': 57, 'losses': 25, 'pct': 0.695},\n",
       "  8: {'wins': 2, 'losses': 5, 'pct': 0.286},\n",
       "  9: {'wins': 0, 'losses': 1, 'pct': 0.5},\n",
       "  10: {'wins': 32, 'losses': 18, 'pct': 0.64},\n",
       "  11: {'wins': 14, 'losses': 2, 'pct': 0.875},\n",
       "  12: {'wins': 1, 'losses': 0, 'pct': 0.5},\n",
       "  13: {'wins': 0, 'losses': 0, 'pct': 0.5},\n",
       "  14: {'wins': 0, 'losses': 0, 'pct': 0.5},\n",
       "  15: {'wins': 132, 'losses': 8, 'pct': 0.943},\n",
       "  16: {'wins': 0, 'losses': 0, 'pct': 0.5}},\n",
       " 3: {3: {'wins': 0, 'losses': 0, 'pct': 0.5},\n",
       "  4: {'wins': 4, 'losses': 3, 'pct': 0.571},\n",
       "  5: {'wins': 2, 'losses': 1, 'pct': 0.5},\n",
       "  6: {'wins': 44, 'losses': 28, 'pct': 0.611},\n",
       "  7: {'wins': 9, 'losses': 6, 'pct': 0.6},\n",
       "  8: {'wins': 2, 'losses': 0, 'pct': 0.5},\n",
       "  9: {'wins': 2, 'losses': 0, 'pct': 0.5},\n",
       "  10: {'wins': 9, 'losses': 4, 'pct': 0.692},\n",
       "  11: {'wins': 32, 'losses': 17, 'pct': 0.653},\n",
       "  12: {'wins': 0, 'losses': 0, 'pct': 0.5},\n",
       "  13: {'wins': 0, 'losses': 0, 'pct': 0.5},\n",
       "  14: {'wins': 119, 'losses': 21, 'pct': 0.85},\n",
       "  15: {'wins': 1, 'losses': 0, 'pct': 0.5},\n",
       "  16: {'wins': 0, 'losses': 0, 'pct': 0.5}},\n",
       " 4: {4: {'wins': 0, 'losses': 0, 'pct': 0.5},\n",
       "  5: {'wins': 41, 'losses': 33, 'pct': 0.554},\n",
       "  6: {'wins': 2, 'losses': 2, 'pct': 0.5},\n",
       "  7: {'wins': 2, 'losses': 3, 'pct': 0.4},\n",
       "  8: {'wins': 4, 'losses': 5, 'pct': 0.444},\n",
       "  9: {'wins': 2, 'losses': 1, 'pct': 0.5},\n",
       "  10: {'wins': 2, 'losses': 0, 'pct': 0.5},\n",
       "  11: {'wins': 0, 'losses': 0, 'pct': 0.5},\n",
       "  12: {'wins': 26, 'losses': 12, 'pct': 0.684},\n",
       "  13: {'wins': 111, 'losses': 29, 'pct': 0.793},\n",
       "  14: {'wins': 0, 'losses': 0, 'pct': 0.5},\n",
       "  15: {'wins': 0, 'losses': 0, 'pct': 0.5},\n",
       "  16: {'wins': 0, 'losses': 0, 'pct': 0.5}},\n",
       " 5: {5: {'wins': 0, 'losses': 0, 'pct': 0.5},\n",
       "  6: {'wins': 1, 'losses': 0, 'pct': 0.5},\n",
       "  7: {'wins': 0, 'losses': 0, 'pct': 0.5},\n",
       "  8: {'wins': 1, 'losses': 2, 'pct': 0.5},\n",
       "  9: {'wins': 1, 'losses': 2, 'pct': 0.5},\n",
       "  10: {'wins': 1, 'losses': 0, 'pct': 0.5},\n",
       "  11: {'wins': 0, 'losses': 0, 'pct': 0.5},\n",
       "  12: {'wins': 90, 'losses': 50, 'pct': 0.643},\n",
       "  13: {'wins': 14, 'losses': 3, 'pct': 0.824},\n",
       "  14: {'wins': 0, 'losses': 0, 'pct': 0.5},\n",
       "  15: {'wins': 0, 'losses': 0, 'pct': 0.5},\n",
       "  16: {'wins': 0, 'losses': 0, 'pct': 0.5}},\n",
       " 6: {6: {'wins': 0, 'losses': 0, 'pct': 0.5},\n",
       "  7: {'wins': 4, 'losses': 3, 'pct': 0.571},\n",
       "  8: {'wins': 0, 'losses': 1, 'pct': 0.5},\n",
       "  9: {'wins': 0, 'losses': 0, 'pct': 0.5},\n",
       "  10: {'wins': 4, 'losses': 2, 'pct': 0.667},\n",
       "  11: {'wins': 88, 'losses': 52, 'pct': 0.629},\n",
       "  12: {'wins': 0, 'losses': 0, 'pct': 0.5},\n",
       "  13: {'wins': 0, 'losses': 0, 'pct': 0.5},\n",
       "  14: {'wins': 14, 'losses': 2, 'pct': 0.875},\n",
       "  15: {'wins': 0, 'losses': 0, 'pct': 0.5},\n",
       "  16: {'wins': 0, 'losses': 0, 'pct': 0.5}},\n",
       " 7: {7: {'wins': 0, 'losses': 0, 'pct': 0.5},\n",
       "  8: {'wins': 1, 'losses': 1, 'pct': 0.5},\n",
       "  9: {'wins': 0, 'losses': 0, 'pct': 0.5},\n",
       "  10: {'wins': 85, 'losses': 55, 'pct': 0.607},\n",
       "  11: {'wins': 0, 'losses': 4, 'pct': 0.5},\n",
       "  12: {'wins': 0, 'losses': 0, 'pct': 0.5},\n",
       "  13: {'wins': 0, 'losses': 0, 'pct': 0.5},\n",
       "  14: {'wins': 1, 'losses': 0, 'pct': 0.5},\n",
       "  15: {'wins': 2, 'losses': 1, 'pct': 0.5},\n",
       "  16: {'wins': 0, 'losses': 0, 'pct': 0.5}},\n",
       " 8: {8: {'wins': 0, 'losses': 0, 'pct': 0.5},\n",
       "  9: {'wins': 68, 'losses': 72, 'pct': 0.486},\n",
       "  10: {'wins': 0, 'losses': 0, 'pct': 0.5},\n",
       "  11: {'wins': 1, 'losses': 0, 'pct': 0.5},\n",
       "  12: {'wins': 0, 'losses': 1, 'pct': 0.5},\n",
       "  13: {'wins': 1, 'losses': 0, 'pct': 0.5},\n",
       "  14: {'wins': 0, 'losses': 0, 'pct': 0.5},\n",
       "  15: {'wins': 0, 'losses': 0, 'pct': 0.5},\n",
       "  16: {'wins': 0, 'losses': 0, 'pct': 0.5}},\n",
       " 9: {9: {'wins': 0, 'losses': 0, 'pct': 0.5},\n",
       "  10: {'wins': 0, 'losses': 0, 'pct': 0.5},\n",
       "  11: {'wins': 0, 'losses': 1, 'pct': 0.5},\n",
       "  12: {'wins': 0, 'losses': 0, 'pct': 0.5},\n",
       "  13: {'wins': 1, 'losses': 0, 'pct': 0.5},\n",
       "  14: {'wins': 0, 'losses': 0, 'pct': 0.5},\n",
       "  15: {'wins': 0, 'losses': 0, 'pct': 0.5},\n",
       "  16: {'wins': 1, 'losses': 0, 'pct': 0.5}},\n",
       " 10: {10: {'wins': 0, 'losses': 0, 'pct': 0.5},\n",
       "  11: {'wins': 1, 'losses': 2, 'pct': 0.5},\n",
       "  12: {'wins': 0, 'losses': 0, 'pct': 0.5},\n",
       "  13: {'wins': 0, 'losses': 0, 'pct': 0.5},\n",
       "  14: {'wins': 1, 'losses': 0, 'pct': 0.5},\n",
       "  15: {'wins': 5, 'losses': 0, 'pct': 0.99},\n",
       "  16: {'wins': 0, 'losses': 0, 'pct': 0.5}},\n",
       " 11: {11: {'wins': 0, 'losses': 0, 'pct': 0.5},\n",
       "  12: {'wins': 0, 'losses': 0, 'pct': 0.5},\n",
       "  13: {'wins': 0, 'losses': 0, 'pct': 0.5},\n",
       "  14: {'wins': 5, 'losses': 0, 'pct': 0.99},\n",
       "  15: {'wins': 0, 'losses': 0, 'pct': 0.5},\n",
       "  16: {'wins': 0, 'losses': 0, 'pct': 0.5}},\n",
       " 12: {12: {'wins': 0, 'losses': 0, 'pct': 0.5},\n",
       "  13: {'wins': 9, 'losses': 3, 'pct': 0.75},\n",
       "  14: {'wins': 0, 'losses': 0, 'pct': 0.5},\n",
       "  15: {'wins': 0, 'losses': 0, 'pct': 0.5},\n",
       "  16: {'wins': 0, 'losses': 0, 'pct': 0.5}},\n",
       " 13: {13: {'wins': 0, 'losses': 0, 'pct': 0.5},\n",
       "  14: {'wins': 0, 'losses': 0, 'pct': 0.5},\n",
       "  15: {'wins': 0, 'losses': 0, 'pct': 0.5},\n",
       "  16: {'wins': 0, 'losses': 0, 'pct': 0.5}},\n",
       " 14: {14: {'wins': 0, 'losses': 0, 'pct': 0.5},\n",
       "  15: {'wins': 0, 'losses': 0, 'pct': 0.5},\n",
       "  16: {'wins': 0, 'losses': 0, 'pct': 0.5}},\n",
       " 15: {15: {'wins': 0, 'losses': 0, 'pct': 0.5},\n",
       "  16: {'wins': 0, 'losses': 0, 'pct': 0.5}}}"
      ]
     },
     "execution_count": 13,
     "metadata": {},
     "output_type": "execute_result"
    }
   ],
   "source": [
    "seed_win_counts"
   ]
  },
  {
   "cell_type": "code",
   "execution_count": 14,
   "id": "2e32f61e",
   "metadata": {},
   "outputs": [
    {
     "data": {
      "text/plain": [
       "dict_keys([1, 2, 3, 4, 5, 6, 7, 8, 9, 10, 11, 12, 13, 14, 15])"
      ]
     },
     "execution_count": 14,
     "metadata": {},
     "output_type": "execute_result"
    }
   ],
   "source": [
    "seed_win_counts.keys()"
   ]
  },
  {
   "cell_type": "code",
   "execution_count": 15,
   "id": "521a25cc",
   "metadata": {},
   "outputs": [],
   "source": [
    "results = []\n",
    "for seed in seed_win_counts.keys():\n",
    "    for opp_seed in seed_win_counts[seed]:\n",
    "        pct = seed_win_counts[seed][opp_seed]['pct']\n",
    "        \n",
    "        pct = min(pct,0.95)\n",
    "        \n",
    "        pct = max(pct,0.05)\n",
    "        \n",
    "        results.append([seed,opp_seed,pct])\n",
    "        \n",
    "results = pd.DataFrame(results,columns=['Team Seed','Opponent Seed','pct'])"
   ]
  },
  {
   "cell_type": "code",
   "execution_count": 16,
   "id": "fe8da712",
   "metadata": {},
   "outputs": [
    {
     "data": {
      "text/html": [
       "<div>\n",
       "<style scoped>\n",
       "    .dataframe tbody tr th:only-of-type {\n",
       "        vertical-align: middle;\n",
       "    }\n",
       "\n",
       "    .dataframe tbody tr th {\n",
       "        vertical-align: top;\n",
       "    }\n",
       "\n",
       "    .dataframe thead th {\n",
       "        text-align: right;\n",
       "    }\n",
       "</style>\n",
       "<table border=\"1\" class=\"dataframe\">\n",
       "  <thead>\n",
       "    <tr style=\"text-align: right;\">\n",
       "      <th></th>\n",
       "      <th>Team Seed</th>\n",
       "      <th>Opponent Seed</th>\n",
       "      <th>pct</th>\n",
       "    </tr>\n",
       "  </thead>\n",
       "  <tbody>\n",
       "    <tr>\n",
       "      <th>0</th>\n",
       "      <td>1</td>\n",
       "      <td>1</td>\n",
       "      <td>0.500</td>\n",
       "    </tr>\n",
       "    <tr>\n",
       "      <th>1</th>\n",
       "      <td>1</td>\n",
       "      <td>2</td>\n",
       "      <td>0.538</td>\n",
       "    </tr>\n",
       "    <tr>\n",
       "      <th>2</th>\n",
       "      <td>1</td>\n",
       "      <td>3</td>\n",
       "      <td>0.600</td>\n",
       "    </tr>\n",
       "    <tr>\n",
       "      <th>3</th>\n",
       "      <td>1</td>\n",
       "      <td>4</td>\n",
       "      <td>0.730</td>\n",
       "    </tr>\n",
       "    <tr>\n",
       "      <th>4</th>\n",
       "      <td>1</td>\n",
       "      <td>5</td>\n",
       "      <td>0.830</td>\n",
       "    </tr>\n",
       "    <tr>\n",
       "      <th>...</th>\n",
       "      <td>...</td>\n",
       "      <td>...</td>\n",
       "      <td>...</td>\n",
       "    </tr>\n",
       "    <tr>\n",
       "      <th>130</th>\n",
       "      <td>14</td>\n",
       "      <td>14</td>\n",
       "      <td>0.500</td>\n",
       "    </tr>\n",
       "    <tr>\n",
       "      <th>131</th>\n",
       "      <td>14</td>\n",
       "      <td>15</td>\n",
       "      <td>0.500</td>\n",
       "    </tr>\n",
       "    <tr>\n",
       "      <th>132</th>\n",
       "      <td>14</td>\n",
       "      <td>16</td>\n",
       "      <td>0.500</td>\n",
       "    </tr>\n",
       "    <tr>\n",
       "      <th>133</th>\n",
       "      <td>15</td>\n",
       "      <td>15</td>\n",
       "      <td>0.500</td>\n",
       "    </tr>\n",
       "    <tr>\n",
       "      <th>134</th>\n",
       "      <td>15</td>\n",
       "      <td>16</td>\n",
       "      <td>0.500</td>\n",
       "    </tr>\n",
       "  </tbody>\n",
       "</table>\n",
       "<p>135 rows × 3 columns</p>\n",
       "</div>"
      ],
      "text/plain": [
       "     Team Seed  Opponent Seed    pct\n",
       "0            1              1  0.500\n",
       "1            1              2  0.538\n",
       "2            1              3  0.600\n",
       "3            1              4  0.730\n",
       "4            1              5  0.830\n",
       "..         ...            ...    ...\n",
       "130         14             14  0.500\n",
       "131         14             15  0.500\n",
       "132         14             16  0.500\n",
       "133         15             15  0.500\n",
       "134         15             16  0.500\n",
       "\n",
       "[135 rows x 3 columns]"
      ]
     },
     "execution_count": 16,
     "metadata": {},
     "output_type": "execute_result"
    }
   ],
   "source": [
    "results"
   ]
  },
  {
   "cell_type": "code",
   "execution_count": 17,
   "id": "25d35eaf",
   "metadata": {},
   "outputs": [],
   "source": [
    "results.to_csv(os.path.join(basepath,'seed win percentage.csv'),index=False)"
   ]
  },
  {
   "cell_type": "code",
   "execution_count": null,
   "id": "cf165096",
   "metadata": {},
   "outputs": [],
   "source": [
    "seed1 = 1\n",
    "seed2 = 3"
   ]
  },
  {
   "cell_type": "code",
   "execution_count": null,
   "id": "e239f973",
   "metadata": {},
   "outputs": [],
   "source": [
    "pct = results[(results['Team Seed']==seed1) & (results['Opponent Seed']==seed2)]"
   ]
  },
  {
   "cell_type": "code",
   "execution_count": null,
   "id": "a2f914ce",
   "metadata": {},
   "outputs": [],
   "source": [
    "pct['pct'].values[0]"
   ]
  },
  {
   "cell_type": "code",
   "execution_count": null,
   "id": "af189706",
   "metadata": {},
   "outputs": [],
   "source": [
    "season = 2019\n",
    "\n",
    "season_tourney_seeds = tourney_seeds[tourney_seeds['Season']==season].set_index('TeamID')\n",
    "\n",
    "season_tourney_seeds.head()"
   ]
  },
  {
   "cell_type": "code",
   "execution_count": null,
   "id": "263ff8fc",
   "metadata": {},
   "outputs": [],
   "source": [
    "season_tourney_seeds = season_tourney_seeds.sort_index() "
   ]
  },
  {
   "cell_type": "code",
   "execution_count": null,
   "id": "d99102a3",
   "metadata": {},
   "outputs": [],
   "source": [
    "predictions = []\n",
    "\n",
    "for team1 in season_tourney_seeds.index:\n",
    "    for team2 in season_tourney_seeds.index:\n",
    "        if team1 == team2 or team1 > team2:\n",
    "            continue\n",
    "            \n",
    "        string = f'{season}_{team1}_{team2}'\n",
    "        \n",
    "        team1_seed = parse_seed(season_tourney_seeds.loc[team1]['Seed'])\n",
    "        team2_seed = parse_seed(season_tourney_seeds.loc[team2]['Seed'])\n",
    "        \n",
    "        if team1_seed < team2_seed:\n",
    "            pct = seed_win_counts[team1_seed][team2_seed]['pct']\n",
    "        elif team2_seed < team1_seed:\n",
    "            pct = 1 - seed_win_counts[team2_seed][team1_seed]['pct']\n",
    "        elif team1_seed == team2_seed:\n",
    "            pct = 0.5\n",
    "         \n",
    "        prediction = [string,pct]\n",
    "        predictions.append(prediction)"
   ]
  },
  {
   "cell_type": "code",
   "execution_count": null,
   "id": "fb7010db",
   "metadata": {},
   "outputs": [],
   "source": [
    "prediction_df = pd.DataFrame(predictions,columns=['ID','Pred'])"
   ]
  },
  {
   "cell_type": "code",
   "execution_count": null,
   "id": "c5d2a5ed",
   "metadata": {},
   "outputs": [],
   "source": [
    "prediction_df.to_csv('seed win percentage - predictions.csv',index=False)"
   ]
  },
  {
   "cell_type": "code",
   "execution_count": null,
   "id": "770c9b16",
   "metadata": {},
   "outputs": [],
   "source": [
    "prediction_df.shape"
   ]
  },
  {
   "cell_type": "markdown",
   "id": "7e162878",
   "metadata": {},
   "source": [
    "season = 2019\n",
    "\n",
    "season_tourney_seeds = tourney_seeds[tourney_seeds['Season']==season].set_index('TeamID')\n",
    "season_tournament_results = tournament_results[tournament_results['Season']==season]\n",
    "\n",
    "for i in season_tournament_results.index:\n",
    "    game_result = season_tournament_results.loc[i]\n",
    "    winner_id = game_result['WTeamID']\n",
    "    loser_id = game_result['LTeamID']\n",
    "\n",
    "    winner_seed = parse_seed(season_tourney_seeds.loc[winner_id,'Seed'])\n",
    "    loser_seed = parse_seed(season_tourney_seeds.loc[loser_id,'Seed'])"
   ]
  },
  {
   "cell_type": "code",
   "execution_count": null,
   "id": "5443f85b",
   "metadata": {},
   "outputs": [],
   "source": []
  }
 ],
 "metadata": {
  "kernelspec": {
   "display_name": "Python 3",
   "language": "python",
   "name": "python3"
  },
  "language_info": {
   "codemirror_mode": {
    "name": "ipython",
    "version": 3
   },
   "file_extension": ".py",
   "mimetype": "text/x-python",
   "name": "python",
   "nbconvert_exporter": "python",
   "pygments_lexer": "ipython3",
   "version": "3.8.8"
  }
 },
 "nbformat": 4,
 "nbformat_minor": 5
}
